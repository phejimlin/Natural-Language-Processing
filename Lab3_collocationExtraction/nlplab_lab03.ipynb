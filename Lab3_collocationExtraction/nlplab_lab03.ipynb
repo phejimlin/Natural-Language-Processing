{
 "cells": [
  {
   "cell_type": "markdown",
   "metadata": {
    "deletable": true,
    "editable": true
   },
   "source": [
    "# 示範指令使用\n",
    "\n",
    "### 用指令算 3gram "
   ]
  },
  {
   "cell_type": "code",
   "execution_count": 1,
   "metadata": {
    "collapsed": false,
    "deletable": true,
    "editable": true
   },
   "outputs": [
    {
     "name": "stdout",
     "output_type": "stream",
     "text": [
      "zurich protested the\t2\n",
      "zuhir al-naimi ,\t3\n",
      "zuhayr talib abd\t4\n",
      "zubaidi does not\t2\n",
      "zoran zivkovic said\t2\n",
      "zoran zivkovic ,\t2\n",
      "zoran djindjic has\t2\n",
      "zoran djindjic .\t10\n",
      "zora neale hurston\t8\n",
      "zones over northern\t2\n",
      "zone that divides\t2\n",
      "zone monday attacked\t2\n",
      "zone in the\t3\n",
      "zone between north\t3\n",
      "zone along the\t2\n",
      "zone about 370\t2\n",
      "zone , where\t2\n",
      "zoellick formalized the\t2\n",
      "zivkovic possible candidacy\t2\n",
      "zimbabwean president robert\t2\n",
      "awk: write error on stdout\n",
      " input record number 6909, file \n",
      " source line number 1\n",
      "uniq: write error: Broken pipe\n"
     ]
    }
   ],
   "source": [
    "!egrep -o '([^ ]+ ){2}[^ ]+' VOA.txt | tr 'A-Z' 'a-z' | \\\n",
    "sort -r  | uniq -c | awk '{if ($1 > 1) printf \"%s %s %s\\t%s\\n\",$2,$3,$4,$1 }' | \\\n",
    "head -20"
   ]
  },
  {
   "cell_type": "markdown",
   "metadata": {
    "deletable": true,
    "editable": true
   },
   "source": [
    "### 縮小檔案基本方法\n",
    "- `wc -l file` 算行數\n",
    "- `head -# file > new_file`  取前 # 行\n",
    "- `head -c #m > new_file` 取前 #mb 資料"
   ]
  },
  {
   "cell_type": "markdown",
   "metadata": {
    "deletable": true,
    "editable": true
   },
   "source": [
    "-----\n",
    "\n",
    "# Lab3開始\n",
    "\n",
    "# word tokenize\n",
    "- 使用 nltk, pattern 或 textblob 做 word tokenize。這邊統一使用 nltk 的 wordpunct_tokenize 切字。\n",
    "- 資料取原始檔案的前 50000 行"
   ]
  },
  {
   "cell_type": "markdown",
   "metadata": {
    "deletable": true,
    "editable": true
   },
   "source": [
    "# 計算 skip bigram \n",
    "\n",
    "- $p_j^i$ \n",
    "- ngram 任何位置不包含符號\n",
    "- skip bigram 不包含 stop words 與數字"
   ]
  },
  {
   "cell_type": "code",
   "execution_count": 1,
   "metadata": {
    "collapsed": false,
    "deletable": true,
    "editable": true
   },
   "outputs": [],
   "source": [
    "from __future__ import division\n",
    "\n",
    "k0 = 1\n",
    "k1 = 1\n",
    "U0 = 10\n",
    "max_distance = 5"
   ]
  },
  {
   "cell_type": "code",
   "execution_count": 2,
   "metadata": {
    "collapsed": false,
    "deletable": true,
    "editable": true
   },
   "outputs": [],
   "source": [
    "# 示範 code ，修改下列 code 達到目的\n",
    "# 可跳過 ngram ，直接計算 skip bigram\n",
    "from nltk.tokenize import  wordpunct_tokenize \n",
    "from nltk.corpus import stopwords \n",
    "eng_stopwords = set(stopwords.words('english'))\n",
    "eng_symbols = '{}\"\\'()[].,:;+!?-*/&|<>=~$'\n",
    "def ngram_is_valid(ngram):\n",
    "    first, last = ngram[0], ngram[-1]\n",
    "    if first in eng_stopwords or last in eng_stopwords: return False\n",
    "    if any( num in first or num in last for num in '0123456789'): return False\n",
    "    if any( eng_symbol in word for word in ngram for eng_symbol in eng_symbols): return False\n",
    "    return True\n",
    "\n",
    "from collections import defaultdict, Counter\n",
    "def to_ngrams( unigrams, length):\n",
    "    return zip(*[unigrams[i:] for i in range(length)])  \n",
    "\n",
    "from nltk.tokenize import  wordpunct_tokenize \n",
    "ngram_counts = defaultdict(Counter)\n",
    "with open('citeseerx_descriptions_sents.txt.50000') as text_file:\n",
    "    for index,line in enumerate(text_file): \n",
    "        words = wordpunct_tokenize(line)\n",
    "        for n in range(2, max_distance + 2):\n",
    "            ngram_counts[n].update(filter(ngram_is_valid, to_ngrams(words, n)))"
   ]
  },
  {
   "cell_type": "code",
   "execution_count": 3,
   "metadata": {
    "collapsed": false,
    "deletable": true,
    "editable": true
   },
   "outputs": [],
   "source": [
    "skip_bigram_info = defaultdict(lambda: defaultdict(Counter))\n",
    "\n",
    "for distance in ngram_counts:\n",
    "    for keys in list(ngram_counts[distance].keys()):        \n",
    "        skip_bigram_info[keys[0]][keys[-1]] += Counter({distance-1:ngram_counts[distance][keys]})\n",
    "        skip_bigram_info[keys[-1]][keys[0]] += Counter({-distance+1:ngram_counts[distance][keys]})\n"
   ]
  },
  {
   "cell_type": "code",
   "execution_count": 4,
   "metadata": {
    "collapsed": false
   },
   "outputs": [
    {
     "data": {
      "text/plain": [
       "[('hierarchy', Counter({1: 2})),\n",
       " ('box', Counter({1: 1})),\n",
       " ('called', Counter({-1: 2})),\n",
       " ('absorption', Counter({-3: 1, 1: 1})),\n",
       " ('fundamental', Counter({-1: 3, 3: 1})),\n",
       " ('pivotal', Counter({-1: 3})),\n",
       " ('precise', Counter({-1: 1})),\n",
       " ('possible', Counter({-5: 1, -1: 2})),\n",
       " ('central', Counter({-1: 11, 3: 1, 4: 1})),\n",
       " ('future', Counter({-5: 1, -1: 1, 2: 2, 4: 1}))]"
      ]
     },
     "execution_count": 4,
     "metadata": {},
     "output_type": "execute_result"
    }
   ],
   "source": [
    "list(skip_bigram_info['role'].items())[:10]"
   ]
  },
  {
   "cell_type": "code",
   "execution_count": 5,
   "metadata": {
    "collapsed": false
   },
   "outputs": [
    {
     "data": {
      "text/plain": [
       "Counter({-5: 1, -4: 2, -2: 2, 2: 8, 3: 51, 4: 5, 5: 1})"
      ]
     },
     "execution_count": 5,
     "metadata": {},
     "output_type": "execute_result"
    }
   ],
   "source": [
    "skip_bigram_info['play']['role']"
   ]
  },
  {
   "cell_type": "markdown",
   "metadata": {
    "deletable": true,
    "editable": true
   },
   "source": [
    "### 階段檢查資料\n"
   ]
  },
  {
   "cell_type": "code",
   "execution_count": 8,
   "metadata": {
    "collapsed": false,
    "deletable": true,
    "editable": true,
    "scrolled": true
   },
   "outputs": [
    {
     "data": {
      "text/plain": [
       "[('hierarchy', Counter({1: 2})),\n",
       " ('box', Counter({1: 1})),\n",
       " ('called', Counter({-1: 2})),\n",
       " ('absorption', Counter({-3: 1, 1: 1})),\n",
       " ('fundamental', Counter({-1: 3, 3: 1})),\n",
       " ('pivotal', Counter({-1: 3})),\n",
       " ('precise', Counter({-1: 1})),\n",
       " ('possible', Counter({-5: 1, -1: 2})),\n",
       " ('central', Counter({-1: 11, 3: 1, 4: 1})),\n",
       " ('future', Counter({-5: 1, -1: 1, 2: 2, 4: 1}))]"
      ]
     },
     "execution_count": 8,
     "metadata": {},
     "output_type": "execute_result"
    }
   ],
   "source": [
    "list(skip_bigram_info['role'].items())[:10]"
   ]
  },
  {
   "cell_type": "code",
   "execution_count": 9,
   "metadata": {
    "collapsed": false,
    "deletable": true,
    "editable": true
   },
   "outputs": [
    {
     "data": {
      "text/plain": [
       "Counter({-5: 1, -4: 2, -2: 2, 2: 8, 3: 51, 4: 5, 5: 1})"
      ]
     },
     "execution_count": 9,
     "metadata": {},
     "output_type": "execute_result"
    }
   ],
   "source": [
    "skip_bigram_info['play']['role']"
   ]
  },
  {
   "cell_type": "markdown",
   "metadata": {
    "deletable": true,
    "editable": true
   },
   "source": [
    "# 計算 skip bigram 的各種統計資訊 \n",
    "$freq,\\ \\bar{f},\\ \\sigma,\\ u_i,\\ \\bar{p_i}$"
   ]
  },
  {
   "cell_type": "code",
   "execution_count": 6,
   "metadata": {
    "collapsed": true
   },
   "outputs": [],
   "source": [
    "def calculate_deviation(my_list, average):\n",
    "    variance = 0\n",
    "    for i in range(0, len(my_list)):\n",
    "        variance += (average - my_list[i]) ** 2\n",
    "    return (variance / len(my_list)) ** 0.5\n",
    "\n",
    "\n",
    "def grades_average(my_list):\n",
    "    sum_of_grades = sum(my_list)\n",
    "    average = sum_of_grades / len(my_list)\n",
    "    return average\n",
    "\n",
    "def calculate_spread(my_list, average):\n",
    "    # Need to fill up len(my_list) to 10's 0 when my_list < 10\n",
    "    spread = 0\n",
    "    for i in range(0, len(my_list)):\n",
    "        spread += (my_list[i] - average) ** 2\n",
    "    return spread/len(my_list)"
   ]
  },
  {
   "cell_type": "code",
   "execution_count": 7,
   "metadata": {
    "collapsed": false,
    "deletable": true,
    "editable": true
   },
   "outputs": [],
   "source": [
    "skip_bigram_abc = defaultdict(lambda: defaultdict(Counter))\n",
    "for index, word1 in enumerate(skip_bigram_info):\n",
    "    total_frequency_list = []\n",
    "    for word2 in skip_bigram_info[word1]:\n",
    "        frequency_p_list = list(skip_bigram_info[word1][word2].values())\n",
    "        frequency_p_list = frequency_p_list + [0] * (10 - len(frequency_p_list))\n",
    "        \n",
    "        two_word_frequency = sum(frequency_p_list)\n",
    "        total_frequency_list.append(two_word_frequency)\n",
    "\n",
    "        skip_bigram_abc[(word1,word2,'freq')] = two_word_frequency\n",
    "        skip_bigram_abc[(word1, word2, 'spread')] = calculate_spread(frequency_p_list, grades_average(frequency_p_list))\n",
    "        \n",
    "    skip_bigram_abc[(word1,'avg_freq')] = sum(total_frequency_list) / len(total_frequency_list)\n",
    "    skip_bigram_abc[(word1, 'dev')] = calculate_deviation(total_frequency_list, grades_average(total_frequency_list))\n"
   ]
  },
  {
   "cell_type": "markdown",
   "metadata": {
    "deletable": true,
    "editable": true
   },
   "source": [
    "### 階段檢查資料\n",
    "- $\\bar{f}$ : `avg_freq`\n",
    "- $\\sigma$ : `dev`  標準差\n",
    "- $u_i$ : `spread`  將十個值各自減掉 所有平律的平均 在平方起來加起來平均 \n",
    "- $freq$ : `freq`\n"
   ]
  },
  {
   "cell_type": "code",
   "execution_count": 24,
   "metadata": {
    "collapsed": false,
    "deletable": true,
    "editable": true
   },
   "outputs": [
    {
     "name": "stdout",
     "output_type": "stream",
     "text": [
      "Counter({3: 51, 2: 8, 4: 5, -2: 2, -4: 2, 5: 1, -5: 1})\n",
      "1.5247524752475248\n",
      "defaultdict(<class 'collections.Counter'>, {})\n",
      "4.197108998898267\n",
      "221.0\n",
      "70\n"
     ]
    }
   ],
   "source": [
    "print(skip_bigram_info[\"play\"][\"role\"])\n",
    "print(skip_bigram_abc[('play','avg_freq')])\n",
    "print(skip_bigram_abc[('play','dev')])\n",
    "print(skip_bigram_abc[('play','role','spread')])\n",
    "print(skip_bigram_abc[('play','role','freq')])"
   ]
  },
  {
   "cell_type": "markdown",
   "metadata": {
    "deletable": true,
    "editable": true
   },
   "source": [
    "## 使用 pandas 畫出 play role 的各距離數量 "
   ]
  },
  {
   "cell_type": "code",
   "execution_count": 48,
   "metadata": {
    "collapsed": false
   },
   "outputs": [
    {
     "data": {
      "text/plain": [
       "<matplotlib.axes._subplots.AxesSubplot at 0x135f942b0>"
      ]
     },
     "execution_count": 48,
     "metadata": {},
     "output_type": "execute_result"
    },
    {
     "data": {
      "image/png": "[encoded data removed]",
      "text/plain": [
       "<matplotlib.figure.Figure at 0x136855128>"
      ]
     },
     "metadata": {},
     "output_type": "display_data"
    }
   ],
   "source": [
    "import pandas \n",
    "%matplotlib inline\n",
    "play_role_distances_count = pandas.Series(list(skip_bigram_info['play']['role'].values()), index= list(skip_bigram_info['play']['role'].keys())).sort_index()\n",
    "play_role_distances_count.plot(kind='bar')"
   ]
  },
  {
   "cell_type": "markdown",
   "metadata": {
    "deletable": true,
    "editable": true
   },
   "source": [
    "# 依據 Smadja’s 三個規則篩選 skip bigrams\n",
    "\n",
    "$$\\begin{cases} \n",
    "strength = \\frac{freq - \\bar{f}}{\\sigma} \\ge k_0 & (C_1)\\\\\n",
    "spread \\ge u_0 & (C_2) \\\\\n",
    "p_j^i \\ge \\bar{p_i} + (k_1 \\times \\sqrt{u_i}) & (C_3) \n",
    "\\end{cases}$$"
   ]
  },
  {
   "cell_type": "code",
   "execution_count": 30,
   "metadata": {
    "collapsed": true
   },
   "outputs": [],
   "source": [
    "def calcute_strength(freq, avg_freq, dev):\n",
    "    if dev == 0:\n",
    "        return (freq - avg_freq) / 1\n",
    "    else:\n",
    "        return (freq - avg_freq) / dev\n",
    "\n",
    "def calcute_peak(frequency_in_each_distance_list, spread):\n",
    "    avg = sum(frequency_in_each_distance_list) / 10\n",
    "    return avg + spread ** 0.5"
   ]
  },
  {
   "cell_type": "code",
   "execution_count": 39,
   "metadata": {
    "collapsed": false,
    "deletable": true,
    "editable": true
   },
   "outputs": [],
   "source": [
    "cc = []\n",
    "for index, word1 in enumerate(skip_bigram_info):\n",
    "    for word2 in skip_bigram_info[word1]:    \n",
    "        spread = skip_bigram_abc[(word1, word2, 'spread')]\n",
    "        strength = calcute_strength(skip_bigram_abc[(word1, word2, 'freq')], skip_bigram_abc[(word1, 'avg_freq')], skip_bigram_abc[(word1,'dev')])\n",
    "        peak = calcute_peak(list(skip_bigram_info[word1][word2].values()), spread)\n",
    "        \n",
    "        for distance in skip_bigram_info[word1][word2].keys():\n",
    "            p = skip_bigram_info[word1][word2][distance]\n",
    "            if strength >= 1 and spread >= 10 and skip_bigram_info[word1][word2][distance] >= peak:\n",
    "                cc.append((word1, word2, distance, strength, spread, peak, p))\n",
    "        "
   ]
  },
  {
   "cell_type": "markdown",
   "metadata": {
    "deletable": true,
    "editable": true
   },
   "source": [
    "## 使用 pandas Dataframe 整理與顯示資料"
   ]
  },
  {
   "cell_type": "code",
   "execution_count": 40,
   "metadata": {
    "collapsed": false,
    "deletable": true,
    "editable": true
   },
   "outputs": [],
   "source": [
    "# cc = [('base word', 'collocate', 'distance', 'strength', 'spread', 'peak', 'p').......]\n",
    "import pandas\n",
    "collocations_df = pandas.DataFrame(cc,\n",
    "                                   columns = ['base word', 'collocate', 'distance', 'strength', 'spread', 'peak', 'p'])\n",
    "collocations_df = collocations_df.set_index(['base word', 'collocate', 'distance']).sort_index()"
   ]
  },
  {
   "cell_type": "markdown",
   "metadata": {
    "deletable": true,
    "editable": true
   },
   "source": [
    "### 列出 collocation Dataframe"
   ]
  },
  {
   "cell_type": "code",
   "execution_count": 49,
   "metadata": {
    "collapsed": false,
    "deletable": true,
    "editable": true
   },
   "outputs": [
    {
     "data": {
      "text/html": [
       "<div>\n",
       "<table border=\"1\" class=\"dataframe\">\n",
       "  <thead>\n",
       "    <tr style=\"text-align: right;\">\n",
       "      <th></th>\n",
       "      <th></th>\n",
       "      <th></th>\n",
       "      <th>strength</th>\n",
       "      <th>spread</th>\n",
       "      <th>peak</th>\n",
       "      <th>p</th>\n",
       "    </tr>\n",
       "    <tr>\n",
       "      <th>base word</th>\n",
       "      <th>collocate</th>\n",
       "      <th>distance</th>\n",
       "      <th></th>\n",
       "      <th></th>\n",
       "      <th></th>\n",
       "      <th></th>\n",
       "    </tr>\n",
       "  </thead>\n",
       "  <tbody>\n",
       "    <tr>\n",
       "      <th rowspan=\"30\" valign=\"top\">#</th>\n",
       "      <th rowspan=\"2\" valign=\"top\">#</th>\n",
       "      <th>-2</th>\n",
       "      <td>38.086420</td>\n",
       "      <td>506.56</td>\n",
       "      <td>87.706888</td>\n",
       "      <td>107</td>\n",
       "    </tr>\n",
       "    <tr>\n",
       "      <th>2</th>\n",
       "      <td>38.086420</td>\n",
       "      <td>506.56</td>\n",
       "      <td>87.706888</td>\n",
       "      <td>107</td>\n",
       "    </tr>\n",
       "    <tr>\n",
       "      <th rowspan=\"2\" valign=\"top\">The</th>\n",
       "      <th>-3</th>\n",
       "      <td>2.043375</td>\n",
       "      <td>13.16</td>\n",
       "      <td>7.427671</td>\n",
       "      <td>10</td>\n",
       "    </tr>\n",
       "    <tr>\n",
       "      <th>-2</th>\n",
       "      <td>2.043375</td>\n",
       "      <td>13.16</td>\n",
       "      <td>7.427671</td>\n",
       "      <td>8</td>\n",
       "    </tr>\n",
       "    <tr>\n",
       "      <th rowspan=\"2\" valign=\"top\">We</th>\n",
       "      <th>-5</th>\n",
       "      <td>1.338951</td>\n",
       "      <td>20.04</td>\n",
       "      <td>7.076606</td>\n",
       "      <td>8</td>\n",
       "    </tr>\n",
       "    <tr>\n",
       "      <th>-4</th>\n",
       "      <td>1.338951</td>\n",
       "      <td>20.04</td>\n",
       "      <td>7.076606</td>\n",
       "      <td>14</td>\n",
       "    </tr>\n",
       "    <tr>\n",
       "      <th>c</th>\n",
       "      <th>1</th>\n",
       "      <td>2.160779</td>\n",
       "      <td>114.20</td>\n",
       "      <td>14.686440</td>\n",
       "      <td>36</td>\n",
       "    </tr>\n",
       "    <tr>\n",
       "      <th>ciency</th>\n",
       "      <th>1</th>\n",
       "      <td>2.747799</td>\n",
       "      <td>178.60</td>\n",
       "      <td>18.364131</td>\n",
       "      <td>45</td>\n",
       "    </tr>\n",
       "    <tr>\n",
       "      <th>cient</th>\n",
       "      <th>1</th>\n",
       "      <td>8.852810</td>\n",
       "      <td>2043.44</td>\n",
       "      <td>60.604425</td>\n",
       "      <td>151</td>\n",
       "    </tr>\n",
       "    <tr>\n",
       "      <th>ciently</th>\n",
       "      <th>1</th>\n",
       "      <td>2.160779</td>\n",
       "      <td>128.60</td>\n",
       "      <td>15.340194</td>\n",
       "      <td>38</td>\n",
       "    </tr>\n",
       "    <tr>\n",
       "      <th>coe</th>\n",
       "      <th>-1</th>\n",
       "      <td>1.221547</td>\n",
       "      <td>43.04</td>\n",
       "      <td>8.960488</td>\n",
       "      <td>22</td>\n",
       "    </tr>\n",
       "    <tr>\n",
       "      <th>cult</th>\n",
       "      <th>1</th>\n",
       "      <td>1.867269</td>\n",
       "      <td>103.45</td>\n",
       "      <td>13.671037</td>\n",
       "      <td>34</td>\n",
       "    </tr>\n",
       "    <tr>\n",
       "      <th>di</th>\n",
       "      <th>-1</th>\n",
       "      <td>20.769322</td>\n",
       "      <td>9893.61</td>\n",
       "      <td>135.166628</td>\n",
       "      <td>334</td>\n",
       "    </tr>\n",
       "    <tr>\n",
       "      <th>e</th>\n",
       "      <th>-1</th>\n",
       "      <td>24.115337</td>\n",
       "      <td>11877.84</td>\n",
       "      <td>150.385504</td>\n",
       "      <td>368</td>\n",
       "    </tr>\n",
       "    <tr>\n",
       "      <th>ect</th>\n",
       "      <th>1</th>\n",
       "      <td>2.043375</td>\n",
       "      <td>115.36</td>\n",
       "      <td>14.540577</td>\n",
       "      <td>36</td>\n",
       "    </tr>\n",
       "    <tr>\n",
       "      <th>ective</th>\n",
       "      <th>1</th>\n",
       "      <td>3.158714</td>\n",
       "      <td>270.21</td>\n",
       "      <td>22.138066</td>\n",
       "      <td>55</td>\n",
       "    </tr>\n",
       "    <tr>\n",
       "      <th>ectively</th>\n",
       "      <th>1</th>\n",
       "      <td>1.162845</td>\n",
       "      <td>47.61</td>\n",
       "      <td>9.200000</td>\n",
       "      <td>23</td>\n",
       "    </tr>\n",
       "    <tr>\n",
       "      <th>ects</th>\n",
       "      <th>1</th>\n",
       "      <td>1.984673</td>\n",
       "      <td>109.21</td>\n",
       "      <td>14.150359</td>\n",
       "      <td>35</td>\n",
       "    </tr>\n",
       "    <tr>\n",
       "      <th>er</th>\n",
       "      <th>1</th>\n",
       "      <td>1.867269</td>\n",
       "      <td>96.85</td>\n",
       "      <td>13.341240</td>\n",
       "      <td>33</td>\n",
       "    </tr>\n",
       "    <tr>\n",
       "      <th>erent</th>\n",
       "      <th>1</th>\n",
       "      <td>12.492336</td>\n",
       "      <td>3617.24</td>\n",
       "      <td>81.743495</td>\n",
       "      <td>202</td>\n",
       "    </tr>\n",
       "    <tr>\n",
       "      <th>erential</th>\n",
       "      <th>1</th>\n",
       "      <td>1.456355</td>\n",
       "      <td>59.96</td>\n",
       "      <td>10.543384</td>\n",
       "      <td>26</td>\n",
       "    </tr>\n",
       "    <tr>\n",
       "      <th>ers</th>\n",
       "      <th>1</th>\n",
       "      <td>1.456355</td>\n",
       "      <td>59.96</td>\n",
       "      <td>10.543384</td>\n",
       "      <td>26</td>\n",
       "    </tr>\n",
       "    <tr>\n",
       "      <th rowspan=\"2\" valign=\"top\">n</th>\n",
       "      <th>-1</th>\n",
       "      <td>2.512991</td>\n",
       "      <td>24.44</td>\n",
       "      <td>9.543683</td>\n",
       "      <td>16</td>\n",
       "    </tr>\n",
       "    <tr>\n",
       "      <th>1</th>\n",
       "      <td>2.512991</td>\n",
       "      <td>24.44</td>\n",
       "      <td>9.543683</td>\n",
       "      <td>12</td>\n",
       "    </tr>\n",
       "    <tr>\n",
       "      <th>su</th>\n",
       "      <th>-1</th>\n",
       "      <td>2.865203</td>\n",
       "      <td>223.16</td>\n",
       "      <td>20.138541</td>\n",
       "      <td>50</td>\n",
       "    </tr>\n",
       "    <tr>\n",
       "      <th>tra</th>\n",
       "      <th>-1</th>\n",
       "      <td>1.749865</td>\n",
       "      <td>85.61</td>\n",
       "      <td>12.552567</td>\n",
       "      <td>31</td>\n",
       "    </tr>\n",
       "    <tr>\n",
       "      <th rowspan=\"2\" valign=\"top\">two</th>\n",
       "      <th>-2</th>\n",
       "      <td>1.808567</td>\n",
       "      <td>15.84</td>\n",
       "      <td>7.379950</td>\n",
       "      <td>13</td>\n",
       "    </tr>\n",
       "    <tr>\n",
       "      <th>3</th>\n",
       "      <td>1.808567</td>\n",
       "      <td>15.84</td>\n",
       "      <td>7.379950</td>\n",
       "      <td>8</td>\n",
       "    </tr>\n",
       "    <tr>\n",
       "      <th>usion</th>\n",
       "      <th>1</th>\n",
       "      <td>1.104143</td>\n",
       "      <td>43.56</td>\n",
       "      <td>8.800000</td>\n",
       "      <td>22</td>\n",
       "    </tr>\n",
       "    <tr>\n",
       "      <th>x</th>\n",
       "      <th>-1</th>\n",
       "      <td>2.571693</td>\n",
       "      <td>52.41</td>\n",
       "      <td>11.939475</td>\n",
       "      <td>24</td>\n",
       "    </tr>\n",
       "    <tr>\n",
       "      <th>...</th>\n",
       "      <th>...</th>\n",
       "      <th>...</th>\n",
       "      <td>...</td>\n",
       "      <td>...</td>\n",
       "      <td>...</td>\n",
       "      <td>...</td>\n",
       "    </tr>\n",
       "    <tr>\n",
       "      <th rowspan=\"15\" valign=\"top\">work</th>\n",
       "      <th>This</th>\n",
       "      <th>-1</th>\n",
       "      <td>18.888210</td>\n",
       "      <td>537.56</td>\n",
       "      <td>34.385340</td>\n",
       "      <td>79</td>\n",
       "    </tr>\n",
       "    <tr>\n",
       "      <th>contribution</th>\n",
       "      <th>-3</th>\n",
       "      <td>1.660808</td>\n",
       "      <td>10.76</td>\n",
       "      <td>4.480244</td>\n",
       "      <td>11</td>\n",
       "    </tr>\n",
       "    <tr>\n",
       "      <th rowspan=\"2\" valign=\"top\">done</th>\n",
       "      <th>1</th>\n",
       "      <td>4.072645</td>\n",
       "      <td>15.44</td>\n",
       "      <td>6.529377</td>\n",
       "      <td>8</td>\n",
       "    </tr>\n",
       "    <tr>\n",
       "      <th>3</th>\n",
       "      <td>4.072645</td>\n",
       "      <td>15.44</td>\n",
       "      <td>6.529377</td>\n",
       "      <td>11</td>\n",
       "    </tr>\n",
       "    <tr>\n",
       "      <th>earlier</th>\n",
       "      <th>-1</th>\n",
       "      <td>2.349904</td>\n",
       "      <td>17.24</td>\n",
       "      <td>5.752108</td>\n",
       "      <td>14</td>\n",
       "    </tr>\n",
       "    <tr>\n",
       "      <th>future</th>\n",
       "      <th>-1</th>\n",
       "      <td>4.244919</td>\n",
       "      <td>41.81</td>\n",
       "      <td>9.166065</td>\n",
       "      <td>22</td>\n",
       "    </tr>\n",
       "    <tr>\n",
       "      <th>main</th>\n",
       "      <th>-4</th>\n",
       "      <td>2.005356</td>\n",
       "      <td>12.64</td>\n",
       "      <td>4.955278</td>\n",
       "      <td>12</td>\n",
       "    </tr>\n",
       "    <tr>\n",
       "      <th rowspan=\"2\" valign=\"top\">paper</th>\n",
       "      <th>-4</th>\n",
       "      <td>6.484481</td>\n",
       "      <td>28.20</td>\n",
       "      <td>9.310367</td>\n",
       "      <td>13</td>\n",
       "    </tr>\n",
       "    <tr>\n",
       "      <th>-3</th>\n",
       "      <td>6.484481</td>\n",
       "      <td>28.20</td>\n",
       "      <td>9.310367</td>\n",
       "      <td>15</td>\n",
       "    </tr>\n",
       "    <tr>\n",
       "      <th rowspan=\"2\" valign=\"top\">present</th>\n",
       "      <th>-2</th>\n",
       "      <td>4.417193</td>\n",
       "      <td>11.56</td>\n",
       "      <td>6.200000</td>\n",
       "      <td>7</td>\n",
       "    </tr>\n",
       "    <tr>\n",
       "      <th>-1</th>\n",
       "      <td>4.417193</td>\n",
       "      <td>11.56</td>\n",
       "      <td>6.200000</td>\n",
       "      <td>11</td>\n",
       "    </tr>\n",
       "    <tr>\n",
       "      <th>previous</th>\n",
       "      <th>-1</th>\n",
       "      <td>13.547716</td>\n",
       "      <td>469.09</td>\n",
       "      <td>29.758486</td>\n",
       "      <td>73</td>\n",
       "    </tr>\n",
       "    <tr>\n",
       "      <th>progress</th>\n",
       "      <th>2</th>\n",
       "      <td>2.005356</td>\n",
       "      <td>12.64</td>\n",
       "      <td>4.955278</td>\n",
       "      <td>12</td>\n",
       "    </tr>\n",
       "    <tr>\n",
       "      <th>recent</th>\n",
       "      <th>-1</th>\n",
       "      <td>4.244919</td>\n",
       "      <td>60.41</td>\n",
       "      <td>10.472387</td>\n",
       "      <td>26</td>\n",
       "    </tr>\n",
       "    <tr>\n",
       "      <th>well</th>\n",
       "      <th>1</th>\n",
       "      <td>1.833082</td>\n",
       "      <td>10.61</td>\n",
       "      <td>4.557299</td>\n",
       "      <td>11</td>\n",
       "    </tr>\n",
       "    <tr>\n",
       "      <th>works</th>\n",
       "      <th>previous</th>\n",
       "      <th>-1</th>\n",
       "      <td>9.569996</td>\n",
       "      <td>14.84</td>\n",
       "      <td>5.452272</td>\n",
       "      <td>13</td>\n",
       "    </tr>\n",
       "    <tr>\n",
       "      <th rowspan=\"3\" valign=\"top\">world</th>\n",
       "      <th>data</th>\n",
       "      <th>1</th>\n",
       "      <td>5.351246</td>\n",
       "      <td>12.21</td>\n",
       "      <td>5.194281</td>\n",
       "      <td>12</td>\n",
       "    </tr>\n",
       "    <tr>\n",
       "      <th>real</th>\n",
       "      <th>-1</th>\n",
       "      <td>22.833347</td>\n",
       "      <td>390.81</td>\n",
       "      <td>26.468915</td>\n",
       "      <td>66</td>\n",
       "    </tr>\n",
       "    <tr>\n",
       "      <th>virtual</th>\n",
       "      <th>-1</th>\n",
       "      <td>3.952678</td>\n",
       "      <td>10.61</td>\n",
       "      <td>4.557299</td>\n",
       "      <td>11</td>\n",
       "    </tr>\n",
       "    <tr>\n",
       "      <th>worst</th>\n",
       "      <th>case</th>\n",
       "      <th>1</th>\n",
       "      <td>11.213565</td>\n",
       "      <td>43.21</td>\n",
       "      <td>8.873431</td>\n",
       "      <td>22</td>\n",
       "    </tr>\n",
       "    <tr>\n",
       "      <th rowspan=\"2\" valign=\"top\">would</th>\n",
       "      <th>allow</th>\n",
       "      <th>1</th>\n",
       "      <td>6.998167</td>\n",
       "      <td>10.76</td>\n",
       "      <td>4.480244</td>\n",
       "      <td>11</td>\n",
       "    </tr>\n",
       "    <tr>\n",
       "      <th>like</th>\n",
       "      <th>1</th>\n",
       "      <td>14.299831</td>\n",
       "      <td>31.81</td>\n",
       "      <td>7.940035</td>\n",
       "      <td>19</td>\n",
       "    </tr>\n",
       "    <tr>\n",
       "      <th rowspan=\"2\" valign=\"top\">x</th>\n",
       "      <th rowspan=\"2\" valign=\"top\">#</th>\n",
       "      <th>-1</th>\n",
       "      <td>10.766888</td>\n",
       "      <td>52.41</td>\n",
       "      <td>11.939475</td>\n",
       "      <td>12</td>\n",
       "    </tr>\n",
       "    <tr>\n",
       "      <th>1</th>\n",
       "      <td>10.766888</td>\n",
       "      <td>52.41</td>\n",
       "      <td>11.939475</td>\n",
       "      <td>24</td>\n",
       "    </tr>\n",
       "    <tr>\n",
       "      <th rowspan=\"6\" valign=\"top\">years</th>\n",
       "      <th>In</th>\n",
       "      <th>-2</th>\n",
       "      <td>8.225192</td>\n",
       "      <td>84.60</td>\n",
       "      <td>13.197826</td>\n",
       "      <td>31</td>\n",
       "    </tr>\n",
       "    <tr>\n",
       "      <th>ago</th>\n",
       "      <th>1</th>\n",
       "      <td>1.962656</td>\n",
       "      <td>10.89</td>\n",
       "      <td>4.400000</td>\n",
       "      <td>11</td>\n",
       "    </tr>\n",
       "    <tr>\n",
       "      <th>last</th>\n",
       "      <th>-2</th>\n",
       "      <td>8.009242</td>\n",
       "      <td>73.29</td>\n",
       "      <td>12.460958</td>\n",
       "      <td>28</td>\n",
       "    </tr>\n",
       "    <tr>\n",
       "      <th>many</th>\n",
       "      <th>-1</th>\n",
       "      <td>3.042404</td>\n",
       "      <td>20.04</td>\n",
       "      <td>6.076606</td>\n",
       "      <td>15</td>\n",
       "    </tr>\n",
       "    <tr>\n",
       "      <th>past</th>\n",
       "      <th>-2</th>\n",
       "      <td>8.441141</td>\n",
       "      <td>107.49</td>\n",
       "      <td>14.467738</td>\n",
       "      <td>35</td>\n",
       "    </tr>\n",
       "    <tr>\n",
       "      <th>recent</th>\n",
       "      <th>-1</th>\n",
       "      <td>13.623929</td>\n",
       "      <td>380.25</td>\n",
       "      <td>26.000000</td>\n",
       "      <td>65</td>\n",
       "    </tr>\n",
       "  </tbody>\n",
       "</table>\n",
       "<p>5576 rows × 4 columns</p>\n",
       "</div>"
      ],
      "text/plain": [
       "                                  strength    spread        peak    p\n",
       "base word collocate    distance                                      \n",
       "#         #            -2        38.086420    506.56   87.706888  107\n",
       "                        2        38.086420    506.56   87.706888  107\n",
       "          The          -3         2.043375     13.16    7.427671   10\n",
       "                       -2         2.043375     13.16    7.427671    8\n",
       "          We           -5         1.338951     20.04    7.076606    8\n",
       "                       -4         1.338951     20.04    7.076606   14\n",
       "          c             1         2.160779    114.20   14.686440   36\n",
       "          ciency        1         2.747799    178.60   18.364131   45\n",
       "          cient         1         8.852810   2043.44   60.604425  151\n",
       "          ciently       1         2.160779    128.60   15.340194   38\n",
       "          coe          -1         1.221547     43.04    8.960488   22\n",
       "          cult          1         1.867269    103.45   13.671037   34\n",
       "          di           -1        20.769322   9893.61  135.166628  334\n",
       "          e            -1        24.115337  11877.84  150.385504  368\n",
       "          ect           1         2.043375    115.36   14.540577   36\n",
       "          ective        1         3.158714    270.21   22.138066   55\n",
       "          ectively      1         1.162845     47.61    9.200000   23\n",
       "          ects          1         1.984673    109.21   14.150359   35\n",
       "          er            1         1.867269     96.85   13.341240   33\n",
       "          erent         1        12.492336   3617.24   81.743495  202\n",
       "          erential      1         1.456355     59.96   10.543384   26\n",
       "          ers           1         1.456355     59.96   10.543384   26\n",
       "          n            -1         2.512991     24.44    9.543683   16\n",
       "                        1         2.512991     24.44    9.543683   12\n",
       "          su           -1         2.865203    223.16   20.138541   50\n",
       "          tra          -1         1.749865     85.61   12.552567   31\n",
       "          two          -2         1.808567     15.84    7.379950   13\n",
       "                        3         1.808567     15.84    7.379950    8\n",
       "          usion         1         1.104143     43.56    8.800000   22\n",
       "          x            -1         2.571693     52.41   11.939475   24\n",
       "...                                    ...       ...         ...  ...\n",
       "work      This         -1        18.888210    537.56   34.385340   79\n",
       "          contribution -3         1.660808     10.76    4.480244   11\n",
       "          done          1         4.072645     15.44    6.529377    8\n",
       "                        3         4.072645     15.44    6.529377   11\n",
       "          earlier      -1         2.349904     17.24    5.752108   14\n",
       "          future       -1         4.244919     41.81    9.166065   22\n",
       "          main         -4         2.005356     12.64    4.955278   12\n",
       "          paper        -4         6.484481     28.20    9.310367   13\n",
       "                       -3         6.484481     28.20    9.310367   15\n",
       "          present      -2         4.417193     11.56    6.200000    7\n",
       "                       -1         4.417193     11.56    6.200000   11\n",
       "          previous     -1        13.547716    469.09   29.758486   73\n",
       "          progress      2         2.005356     12.64    4.955278   12\n",
       "          recent       -1         4.244919     60.41   10.472387   26\n",
       "          well          1         1.833082     10.61    4.557299   11\n",
       "works     previous     -1         9.569996     14.84    5.452272   13\n",
       "world     data          1         5.351246     12.21    5.194281   12\n",
       "          real         -1        22.833347    390.81   26.468915   66\n",
       "          virtual      -1         3.952678     10.61    4.557299   11\n",
       "worst     case          1        11.213565     43.21    8.873431   22\n",
       "would     allow         1         6.998167     10.76    4.480244   11\n",
       "          like          1        14.299831     31.81    7.940035   19\n",
       "x         #            -1        10.766888     52.41   11.939475   12\n",
       "                        1        10.766888     52.41   11.939475   24\n",
       "years     In           -2         8.225192     84.60   13.197826   31\n",
       "          ago           1         1.962656     10.89    4.400000   11\n",
       "          last         -2         8.009242     73.29   12.460958   28\n",
       "          many         -1         3.042404     20.04    6.076606   15\n",
       "          past         -2         8.441141    107.49   14.467738   35\n",
       "          recent       -1        13.623929    380.25   26.000000   65\n",
       "\n",
       "[5576 rows x 4 columns]"
      ]
     },
     "execution_count": 49,
     "metadata": {},
     "output_type": "execute_result"
    }
   ],
   "source": [
    "collocations_df"
   ]
  },
  {
   "cell_type": "code",
   "execution_count": 50,
   "metadata": {
    "collapsed": false,
    "scrolled": true
   },
   "outputs": [
    {
     "data": {
      "text/html": [
       "<div>\n",
       "<table border=\"1\" class=\"dataframe\">\n",
       "  <thead>\n",
       "    <tr style=\"text-align: right;\">\n",
       "      <th></th>\n",
       "      <th></th>\n",
       "      <th>strength</th>\n",
       "      <th>spread</th>\n",
       "      <th>peak</th>\n",
       "      <th>p</th>\n",
       "    </tr>\n",
       "    <tr>\n",
       "      <th>collocate</th>\n",
       "      <th>distance</th>\n",
       "      <th></th>\n",
       "      <th></th>\n",
       "      <th></th>\n",
       "      <th></th>\n",
       "    </tr>\n",
       "  </thead>\n",
       "  <tbody>\n",
       "    <tr>\n",
       "      <th>The</th>\n",
       "      <th>-1</th>\n",
       "      <td>5.058224</td>\n",
       "      <td>19.49</td>\n",
       "      <td>6.314748</td>\n",
       "      <td>15</td>\n",
       "    </tr>\n",
       "    <tr>\n",
       "      <th>central</th>\n",
       "      <th>-1</th>\n",
       "      <td>3.306837</td>\n",
       "      <td>10.61</td>\n",
       "      <td>4.557299</td>\n",
       "      <td>11</td>\n",
       "    </tr>\n",
       "    <tr>\n",
       "      <th>important</th>\n",
       "      <th>-1</th>\n",
       "      <td>11.771874</td>\n",
       "      <td>134.96</td>\n",
       "      <td>15.817229</td>\n",
       "      <td>39</td>\n",
       "    </tr>\n",
       "    <tr>\n",
       "      <th>play</th>\n",
       "      <th>-3</th>\n",
       "      <td>19.945013</td>\n",
       "      <td>221.00</td>\n",
       "      <td>21.866069</td>\n",
       "      <td>51</td>\n",
       "    </tr>\n",
       "    <tr>\n",
       "      <th>plays</th>\n",
       "      <th>-3</th>\n",
       "      <td>7.393407</td>\n",
       "      <td>34.01</td>\n",
       "      <td>8.531809</td>\n",
       "      <td>20</td>\n",
       "    </tr>\n",
       "  </tbody>\n",
       "</table>\n",
       "</div>"
      ],
      "text/plain": [
       "                     strength  spread       peak   p\n",
       "collocate distance                                  \n",
       "The       -1         5.058224   19.49   6.314748  15\n",
       "central   -1         3.306837   10.61   4.557299  11\n",
       "important -1        11.771874  134.96  15.817229  39\n",
       "play      -3        19.945013  221.00  21.866069  51\n",
       "plays     -3         7.393407   34.01   8.531809  20"
      ]
     },
     "execution_count": 50,
     "metadata": {},
     "output_type": "execute_result"
    }
   ],
   "source": [
    "collocations_df.loc['role']"
   ]
  },
  {
   "cell_type": "markdown",
   "metadata": {
    "deletable": true,
    "editable": true
   },
   "source": [
    "### 依據 strength 排序 collocation"
   ]
  },
  {
   "cell_type": "code",
   "execution_count": 54,
   "metadata": {
    "collapsed": false,
    "deletable": true,
    "editable": true,
    "scrolled": false
   },
   "outputs": [
    {
     "data": {
      "text/html": [
       "<div>\n",
       "<table border=\"1\" class=\"dataframe\">\n",
       "  <thead>\n",
       "    <tr style=\"text-align: right;\">\n",
       "      <th></th>\n",
       "      <th></th>\n",
       "      <th></th>\n",
       "      <th>strength</th>\n",
       "      <th>spread</th>\n",
       "      <th>peak</th>\n",
       "      <th>p</th>\n",
       "    </tr>\n",
       "    <tr>\n",
       "      <th>base word</th>\n",
       "      <th>collocate</th>\n",
       "      <th>distance</th>\n",
       "      <th></th>\n",
       "      <th></th>\n",
       "      <th></th>\n",
       "      <th></th>\n",
       "    </tr>\n",
       "  </thead>\n",
       "  <tbody>\n",
       "    <tr>\n",
       "      <th>This</th>\n",
       "      <th>paper</th>\n",
       "      <th>1</th>\n",
       "      <td>48.524433</td>\n",
       "      <td>342586.69</td>\n",
       "      <td>782.409055</td>\n",
       "      <td>1953</td>\n",
       "    </tr>\n",
       "    <tr>\n",
       "      <th>also</th>\n",
       "      <th>We</th>\n",
       "      <th>-1</th>\n",
       "      <td>43.127860</td>\n",
       "      <td>13829.36</td>\n",
       "      <td>159.398299</td>\n",
       "      <td>394</td>\n",
       "    </tr>\n",
       "    <tr>\n",
       "      <th>In</th>\n",
       "      <th>paper</th>\n",
       "      <th>2</th>\n",
       "      <td>39.951056</td>\n",
       "      <td>288595.41</td>\n",
       "      <td>720.910769</td>\n",
       "      <td>1795</td>\n",
       "    </tr>\n",
       "    <tr>\n",
       "      <th rowspan=\"2\" valign=\"top\">#</th>\n",
       "      <th rowspan=\"2\" valign=\"top\">#</th>\n",
       "      <th>2</th>\n",
       "      <td>38.086420</td>\n",
       "      <td>506.56</td>\n",
       "      <td>87.706888</td>\n",
       "      <td>107</td>\n",
       "    </tr>\n",
       "    <tr>\n",
       "      <th>-2</th>\n",
       "      <td>38.086420</td>\n",
       "      <td>506.56</td>\n",
       "      <td>87.706888</td>\n",
       "      <td>107</td>\n",
       "    </tr>\n",
       "    <tr>\n",
       "      <th>present</th>\n",
       "      <th>We</th>\n",
       "      <th>-1</th>\n",
       "      <td>37.228588</td>\n",
       "      <td>43512.69</td>\n",
       "      <td>284.696956</td>\n",
       "      <td>700</td>\n",
       "    </tr>\n",
       "    <tr>\n",
       "      <th>order</th>\n",
       "      <th>In</th>\n",
       "      <th>-1</th>\n",
       "      <td>36.925210</td>\n",
       "      <td>3010.44</td>\n",
       "      <td>73.267477</td>\n",
       "      <td>183</td>\n",
       "    </tr>\n",
       "    <tr>\n",
       "      <th>show</th>\n",
       "      <th>We</th>\n",
       "      <th>-1</th>\n",
       "      <td>36.293592</td>\n",
       "      <td>13484.29</td>\n",
       "      <td>167.221876</td>\n",
       "      <td>388</td>\n",
       "    </tr>\n",
       "    <tr>\n",
       "      <th>paper</th>\n",
       "      <th>This</th>\n",
       "      <th>-1</th>\n",
       "      <td>35.929941</td>\n",
       "      <td>342586.69</td>\n",
       "      <td>782.409055</td>\n",
       "      <td>1953</td>\n",
       "    </tr>\n",
       "    <tr>\n",
       "      <th>The</th>\n",
       "      <th>paper</th>\n",
       "      <th>1</th>\n",
       "      <td>35.083989</td>\n",
       "      <td>7977.44</td>\n",
       "      <td>138.716516</td>\n",
       "      <td>295</td>\n",
       "    </tr>\n",
       "  </tbody>\n",
       "</table>\n",
       "</div>"
      ],
      "text/plain": [
       "                               strength     spread        peak     p\n",
       "base word collocate distance                                        \n",
       "This      paper      1        48.524433  342586.69  782.409055  1953\n",
       "also      We        -1        43.127860   13829.36  159.398299   394\n",
       "In        paper      2        39.951056  288595.41  720.910769  1795\n",
       "#         #          2        38.086420     506.56   87.706888   107\n",
       "                    -2        38.086420     506.56   87.706888   107\n",
       "present   We        -1        37.228588   43512.69  284.696956   700\n",
       "order     In        -1        36.925210    3010.44   73.267477   183\n",
       "show      We        -1        36.293592   13484.29  167.221876   388\n",
       "paper     This      -1        35.929941  342586.69  782.409055  1953\n",
       "The       paper      1        35.083989    7977.44  138.716516   295"
      ]
     },
     "execution_count": 54,
     "metadata": {},
     "output_type": "execute_result"
    }
   ],
   "source": [
    "collocations_df.sort_values(by = 'strength', ascending=False)[:10]"
   ]
  },
  {
   "cell_type": "markdown",
   "metadata": {
    "deletable": true,
    "editable": true
   },
   "source": [
    "### collocation Dataframe 的各欄位統計數據"
   ]
  },
  {
   "cell_type": "code",
   "execution_count": 55,
   "metadata": {
    "collapsed": false,
    "deletable": true,
    "editable": true
   },
   "outputs": [
    {
     "data": {
      "text/html": [
       "<div>\n",
       "<table border=\"1\" class=\"dataframe\">\n",
       "  <thead>\n",
       "    <tr style=\"text-align: right;\">\n",
       "      <th></th>\n",
       "      <th>strength</th>\n",
       "      <th>spread</th>\n",
       "      <th>peak</th>\n",
       "      <th>p</th>\n",
       "    </tr>\n",
       "  </thead>\n",
       "  <tbody>\n",
       "    <tr>\n",
       "      <th>count</th>\n",
       "      <td>5576.000000</td>\n",
       "      <td>5576.000000</td>\n",
       "      <td>5576.000000</td>\n",
       "      <td>5576.000000</td>\n",
       "    </tr>\n",
       "    <tr>\n",
       "      <th>mean</th>\n",
       "      <td>7.702521</td>\n",
       "      <td>386.152507</td>\n",
       "      <td>11.887454</td>\n",
       "      <td>24.892755</td>\n",
       "    </tr>\n",
       "    <tr>\n",
       "      <th>std</th>\n",
       "      <td>5.055714</td>\n",
       "      <td>8566.186232</td>\n",
       "      <td>24.459313</td>\n",
       "      <td>60.077982</td>\n",
       "    </tr>\n",
       "    <tr>\n",
       "      <th>min</th>\n",
       "      <td>1.010727</td>\n",
       "      <td>10.000000</td>\n",
       "      <td>4.400000</td>\n",
       "      <td>5.000000</td>\n",
       "    </tr>\n",
       "    <tr>\n",
       "      <th>25%</th>\n",
       "      <td>3.870956</td>\n",
       "      <td>14.040000</td>\n",
       "      <td>5.800000</td>\n",
       "      <td>12.000000</td>\n",
       "    </tr>\n",
       "    <tr>\n",
       "      <th>50%</th>\n",
       "      <td>6.714164</td>\n",
       "      <td>22.890000</td>\n",
       "      <td>7.570744</td>\n",
       "      <td>15.000000</td>\n",
       "    </tr>\n",
       "    <tr>\n",
       "      <th>75%</th>\n",
       "      <td>10.316805</td>\n",
       "      <td>51.840000</td>\n",
       "      <td>11.200000</td>\n",
       "      <td>23.000000</td>\n",
       "    </tr>\n",
       "    <tr>\n",
       "      <th>max</th>\n",
       "      <td>48.524433</td>\n",
       "      <td>342586.690000</td>\n",
       "      <td>782.409055</td>\n",
       "      <td>1953.000000</td>\n",
       "    </tr>\n",
       "  </tbody>\n",
       "</table>\n",
       "</div>"
      ],
      "text/plain": [
       "          strength         spread         peak            p\n",
       "count  5576.000000    5576.000000  5576.000000  5576.000000\n",
       "mean      7.702521     386.152507    11.887454    24.892755\n",
       "std       5.055714    8566.186232    24.459313    60.077982\n",
       "min       1.010727      10.000000     4.400000     5.000000\n",
       "25%       3.870956      14.040000     5.800000    12.000000\n",
       "50%       6.714164      22.890000     7.570744    15.000000\n",
       "75%      10.316805      51.840000    11.200000    23.000000\n",
       "max      48.524433  342586.690000   782.409055  1953.000000"
      ]
     },
     "execution_count": 55,
     "metadata": {},
     "output_type": "execute_result"
    }
   ],
   "source": [
    "collocations_df.describe()"
   ]
  },
  {
   "cell_type": "markdown",
   "metadata": {
    "deletable": true,
    "editable": true
   },
   "source": [
    "### role 的相關 collocations"
   ]
  },
  {
   "cell_type": "code",
   "execution_count": 56,
   "metadata": {
    "collapsed": false,
    "deletable": true,
    "editable": true
   },
   "outputs": [
    {
     "data": {
      "text/html": [
       "<div>\n",
       "<table border=\"1\" class=\"dataframe\">\n",
       "  <thead>\n",
       "    <tr style=\"text-align: right;\">\n",
       "      <th></th>\n",
       "      <th></th>\n",
       "      <th>strength</th>\n",
       "      <th>spread</th>\n",
       "      <th>peak</th>\n",
       "      <th>p</th>\n",
       "    </tr>\n",
       "    <tr>\n",
       "      <th>collocate</th>\n",
       "      <th>distance</th>\n",
       "      <th></th>\n",
       "      <th></th>\n",
       "      <th></th>\n",
       "      <th></th>\n",
       "    </tr>\n",
       "  </thead>\n",
       "  <tbody>\n",
       "    <tr>\n",
       "      <th>The</th>\n",
       "      <th>-1</th>\n",
       "      <td>5.058224</td>\n",
       "      <td>19.49</td>\n",
       "      <td>6.314748</td>\n",
       "      <td>15</td>\n",
       "    </tr>\n",
       "    <tr>\n",
       "      <th>central</th>\n",
       "      <th>-1</th>\n",
       "      <td>3.306837</td>\n",
       "      <td>10.61</td>\n",
       "      <td>4.557299</td>\n",
       "      <td>11</td>\n",
       "    </tr>\n",
       "    <tr>\n",
       "      <th>important</th>\n",
       "      <th>-1</th>\n",
       "      <td>11.771874</td>\n",
       "      <td>134.96</td>\n",
       "      <td>15.817229</td>\n",
       "      <td>39</td>\n",
       "    </tr>\n",
       "    <tr>\n",
       "      <th>play</th>\n",
       "      <th>-3</th>\n",
       "      <td>19.945013</td>\n",
       "      <td>221.00</td>\n",
       "      <td>21.866069</td>\n",
       "      <td>51</td>\n",
       "    </tr>\n",
       "    <tr>\n",
       "      <th>plays</th>\n",
       "      <th>-3</th>\n",
       "      <td>7.393407</td>\n",
       "      <td>34.01</td>\n",
       "      <td>8.531809</td>\n",
       "      <td>20</td>\n",
       "    </tr>\n",
       "  </tbody>\n",
       "</table>\n",
       "</div>"
      ],
      "text/plain": [
       "                     strength  spread       peak   p\n",
       "collocate distance                                  \n",
       "The       -1         5.058224   19.49   6.314748  15\n",
       "central   -1         3.306837   10.61   4.557299  11\n",
       "important -1        11.771874  134.96  15.817229  39\n",
       "play      -3        19.945013  221.00  21.866069  51\n",
       "plays     -3         7.393407   34.01   8.531809  20"
      ]
     },
     "execution_count": 56,
     "metadata": {},
     "output_type": "execute_result"
    }
   ],
   "source": [
    "collocations_df.loc['role']"
   ]
  },
  {
   "cell_type": "markdown",
   "metadata": {
    "deletable": true,
    "editable": true
   },
   "source": [
    "### strength 的數據分佈"
   ]
  },
  {
   "cell_type": "code",
   "execution_count": 57,
   "metadata": {
    "collapsed": false,
    "deletable": true,
    "editable": true
   },
   "outputs": [
    {
     "data": {
      "text/plain": [
       "<matplotlib.axes._subplots.AxesSubplot at 0x1368895f8>"
      ]
     },
     "execution_count": 57,
     "metadata": {},
     "output_type": "execute_result"
    },
    {
     "data": {
      "image/png": "[encoded data removed]",
      "text/plain": [
       "<matplotlib.figure.Figure at 0x13da170f0>"
      ]
     },
     "metadata": {},
     "output_type": "display_data"
    }
   ],
   "source": [
    "collocations_df.strength.hist(bins=100, log=True)"
   ]
  },
  {
   "cell_type": "markdown",
   "metadata": {
    "deletable": true,
    "editable": true
   },
   "source": [
    "### 複雜篩選處理示範"
   ]
  },
  {
   "cell_type": "code",
   "execution_count": 59,
   "metadata": {
    "collapsed": false,
    "deletable": true,
    "editable": true
   },
   "outputs": [
    {
     "data": {
      "text/html": [
       "<div>\n",
       "<table border=\"1\" class=\"dataframe\">\n",
       "  <thead>\n",
       "    <tr style=\"text-align: right;\">\n",
       "      <th></th>\n",
       "      <th></th>\n",
       "      <th></th>\n",
       "      <th>strength</th>\n",
       "      <th>spread</th>\n",
       "      <th>peak</th>\n",
       "      <th>p</th>\n",
       "    </tr>\n",
       "    <tr>\n",
       "      <th>base word</th>\n",
       "      <th>collocate</th>\n",
       "      <th>distance</th>\n",
       "      <th></th>\n",
       "      <th></th>\n",
       "      <th></th>\n",
       "      <th></th>\n",
       "    </tr>\n",
       "  </thead>\n",
       "  <tbody>\n",
       "  </tbody>\n",
       "</table>\n",
       "</div>"
      ],
      "text/plain": [
       "Empty DataFrame\n",
       "Columns: [strength, spread, peak, p]\n",
       "Index: []"
      ]
     },
     "execution_count": 59,
     "metadata": {},
     "output_type": "execute_result"
    }
   ],
   "source": [
    "collocations_df[ collocations_df.index.map(lambda x: x[2] == 1) & (collocations_df.spread > 800)  & (collocations_df.peak > 1000)\n",
    "                ].sort_values(by='strength', ascending=False)[:20]"
   ]
  },
  {
   "cell_type": "markdown",
   "metadata": {
    "deletable": true,
    "editable": true
   },
   "source": [
    "# BONUS!!!\n",
    "使用 `citeseerx100000.tag.txt` 找出 VN 關係的 collocations"
   ]
  },
  {
   "cell_type": "code",
   "execution_count": null,
   "metadata": {
    "collapsed": false,
    "deletable": true,
    "editable": true
   },
   "outputs": [],
   "source": []
  }
 ],
 "metadata": {
  "kernelspec": {
   "display_name": "Python 3",
   "language": "python",
   "name": "python3"
  },
  "language_info": {
   "codemirror_mode": {
    "name": "ipython",
    "version": 3
   },
   "file_extension": ".py",
   "mimetype": "text/x-python",
   "name": "python",
   "nbconvert_exporter": "python",
   "pygments_lexer": "ipython3",
   "version": "3.6.0"
  }
 },
 "nbformat": 4,
 "nbformat_minor": 0
}
