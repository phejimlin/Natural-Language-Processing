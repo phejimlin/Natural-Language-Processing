{
 "cells": [
  {
   "cell_type": "code",
   "execution_count": 44,
   "metadata": {
    "collapsed": false,
    "deletable": true,
    "editable": true,
    "scrolled": true
   },
   "outputs": [],
   "source": [
    "from __future__ import division\n",
    "import nltk\n",
    "import random\n",
    "import string"
   ]
  },
  {
   "cell_type": "code",
   "execution_count": 45,
   "metadata": {
    "collapsed": true
   },
   "outputs": [],
   "source": [
    "names_with_gender = ([(name.lower(), 'male') for name in nltk.corpus.names.words('male.txt')] \n",
    "         + [(name.lower(), 'female') for name in nltk.corpus.names.words('female.txt')])\n",
    "random.shuffle(names_with_gender)"
   ]
  },
  {
   "cell_type": "code",
   "execution_count": 47,
   "metadata": {
    "collapsed": false,
    "deletable": true,
    "editable": true,
    "scrolled": true
   },
   "outputs": [
    {
     "data": {
      "text/plain": [
       "{'a': False,\n",
       " 'b': False,\n",
       " 'c': True,\n",
       " 'count(a)': 0,\n",
       " 'count(b)': 0,\n",
       " 'count(c)': 1,\n",
       " 'count(d)': 0,\n",
       " 'count(e)': 0,\n",
       " 'count(f)': 0,\n",
       " 'count(g)': 0,\n",
       " 'count(h)': 0,\n",
       " 'count(i)': 0,\n",
       " 'count(j)': 2,\n",
       " 'count(k)': 0,\n",
       " 'count(l)': 0,\n",
       " 'count(m)': 0,\n",
       " 'count(n)': 0,\n",
       " 'count(o)': 0,\n",
       " 'count(p)': 0,\n",
       " 'count(q)': 0,\n",
       " 'count(r)': 0,\n",
       " 'count(s)': 0,\n",
       " 'count(t)': 0,\n",
       " 'count(u)': 0,\n",
       " 'count(v)': 0,\n",
       " 'count(w)': 0,\n",
       " 'count(x)': 0,\n",
       " 'count(y)': 0,\n",
       " 'count(z)': 0,\n",
       " 'd': False,\n",
       " 'e': False,\n",
       " 'endswith': 'c',\n",
       " 'f': False,\n",
       " 'g': False,\n",
       " 'h': False,\n",
       " 'i': False,\n",
       " 'j': True,\n",
       " 'k': False,\n",
       " 'l': False,\n",
       " 'm': False,\n",
       " 'n': False,\n",
       " 'o': False,\n",
       " 'p': False,\n",
       " 'q': False,\n",
       " 'r': False,\n",
       " 's': False,\n",
       " 'startswith': 'j',\n",
       " 't': False,\n",
       " 'u': False,\n",
       " 'v': False,\n",
       " 'w': False,\n",
       " 'x': False,\n",
       " 'y': False,\n",
       " 'z': False}"
      ]
     },
     "execution_count": 47,
     "metadata": {},
     "output_type": "execute_result"
    }
   ],
   "source": [
    "def gender_features(word):\n",
    "    word = word.lower()\n",
    "    features = {char: char in word for char in string.ascii_lowercase}\n",
    "    features.update({'count({})'.format(char): word.count(char) for char in string.ascii_lowercase})\n",
    "    features.update({'startswith': word[0], 'endswith': word[-1]})\n",
    "    return features\n",
    "gender_features('JJC')"
   ]
  },
  {
   "cell_type": "code",
   "execution_count": 52,
   "metadata": {
    "collapsed": false,
    "deletable": true,
    "editable": true
   },
   "outputs": [],
   "source": [
    "featuresets = [(gender_features(name), gender) for name, gender in names_with_gender]\n",
    "split_point = len(featuresets)*9//10\n",
    "train_set, test_set = featuresets[:split_point], featuresets[split_point:]"
   ]
  },
  {
   "cell_type": "code",
   "execution_count": 55,
   "metadata": {
    "collapsed": false,
    "deletable": true,
    "editable": true
   },
   "outputs": [
    {
     "name": "stdout",
     "output_type": "stream",
     "text": [
      "CPU times: user 317 ms, sys: 15.3 ms, total: 333 ms\n",
      "Wall time: 333 ms\n"
     ]
    }
   ],
   "source": [
    "from nltk.classify import SklearnClassifier \n",
    "from sklearn.linear_model import LogisticRegression\n",
    "%time sklearn_classifier = SklearnClassifier(LogisticRegression()).train(train_set)"
   ]
  },
  {
   "cell_type": "code",
   "execution_count": 11,
   "metadata": {
    "collapsed": false,
    "deletable": true,
    "editable": true,
    "scrolled": true
   },
   "outputs": [
    {
     "name": "stdout",
     "output_type": "stream",
     "text": [
      "  ==> Training (100 iterations)\n",
      "\n",
      "      Iteration    Log Likelihood    Accuracy\n",
      "      ---------------------------------------\n",
      "             1          -0.69315        0.370\n",
      "             2          -0.61308        0.630\n",
      "             3          -0.59834        0.630\n",
      "             4          -0.58541        0.630\n",
      "             5          -0.57324        0.635\n",
      "             6          -0.56180        0.646\n",
      "             7          -0.55104        0.667\n",
      "             8          -0.54093        0.685\n",
      "             9          -0.53144        0.701\n",
      "            10          -0.52251        0.713\n",
      "            11          -0.51411        0.723\n",
      "            12          -0.50621        0.733\n",
      "            13          -0.49877        0.740\n",
      "            14          -0.49175        0.747\n",
      "            15          -0.48513        0.752\n",
      "            16          -0.47888        0.758\n",
      "            17          -0.47297        0.762\n",
      "            18          -0.46738        0.766\n",
      "            19          -0.46208        0.768\n",
      "            20          -0.45706        0.769\n",
      "            21          -0.45230        0.772\n",
      "            22          -0.44777        0.775\n",
      "            23          -0.44347        0.776\n",
      "            24          -0.43937        0.777\n",
      "            25          -0.43547        0.778\n",
      "            26          -0.43175        0.780\n",
      "            27          -0.42820        0.781\n",
      "            28          -0.42481        0.782\n",
      "            29          -0.42157        0.784\n",
      "            30          -0.41847        0.785\n",
      "            31          -0.41550        0.786\n",
      "            32          -0.41266        0.787\n",
      "            33          -0.40994        0.787\n",
      "            34          -0.40733        0.787\n",
      "            35          -0.40482        0.788\n",
      "            36          -0.40242        0.789\n",
      "            37          -0.40010        0.789\n",
      "            38          -0.39788        0.790\n",
      "            39          -0.39574        0.790\n",
      "            40          -0.39368        0.790\n",
      "            41          -0.39170        0.791\n",
      "            42          -0.38979        0.791\n",
      "            43          -0.38795        0.791\n",
      "            44          -0.38617        0.792\n",
      "            45          -0.38446        0.792\n",
      "            46          -0.38281        0.793\n",
      "            47          -0.38121        0.793\n",
      "            48          -0.37966        0.793\n",
      "            49          -0.37817        0.794\n",
      "            50          -0.37673        0.794\n",
      "            51          -0.37533        0.795\n",
      "            52          -0.37398        0.795\n",
      "            53          -0.37267        0.795\n",
      "            54          -0.37140        0.795\n",
      "            55          -0.37017        0.796\n",
      "            56          -0.36898        0.795\n",
      "            57          -0.36783        0.796\n",
      "            58          -0.36671        0.797\n",
      "            59          -0.36562        0.797\n",
      "            60          -0.36456        0.797\n",
      "            61          -0.36354        0.796\n",
      "            62          -0.36254        0.796\n",
      "            63          -0.36158        0.797\n",
      "            64          -0.36064        0.798\n",
      "            65          -0.35972        0.798\n",
      "            66          -0.35884        0.798\n",
      "            67          -0.35797        0.800\n",
      "            68          -0.35713        0.800\n",
      "            69          -0.35631        0.800\n",
      "            70          -0.35552        0.800\n",
      "            71          -0.35474        0.800\n",
      "            72          -0.35399        0.800\n",
      "            73          -0.35325        0.800\n",
      "            74          -0.35253        0.800\n",
      "            75          -0.35183        0.800\n",
      "            76          -0.35115        0.799\n",
      "            77          -0.35049        0.799\n",
      "            78          -0.34984        0.799\n",
      "            79          -0.34921        0.799\n",
      "            80          -0.34859        0.799\n",
      "            81          -0.34799        0.800\n",
      "            82          -0.34740        0.800\n",
      "            83          -0.34682        0.800\n",
      "            84          -0.34626        0.800\n",
      "            85          -0.34572        0.800\n",
      "            86          -0.34518        0.800\n",
      "            87          -0.34466        0.801\n",
      "            88          -0.34415        0.801\n",
      "            89          -0.34365        0.801\n",
      "            90          -0.34316        0.800\n",
      "            91          -0.34268        0.800\n",
      "            92          -0.34221        0.800\n",
      "            93          -0.34175        0.801\n",
      "            94          -0.34131        0.801\n",
      "            95          -0.34087        0.801\n",
      "            96          -0.34044        0.801\n",
      "            97          -0.34002        0.801\n",
      "            98          -0.33961        0.800\n",
      "            99          -0.33921        0.800\n",
      "         Final          -0.33881        0.800\n",
      "CPU times: user 6min 11s, sys: 1.63 s, total: 6min 12s\n",
      "Wall time: 6min 15s\n"
     ]
    }
   ],
   "source": [
    "from nltk.classify import MaxentClassifier\n",
    "%time nltk_classifier = MaxentClassifier.train(train_set, nltk.classify.MaxentClassifier.ALGORITHMS[0])"
   ]
  },
  {
   "cell_type": "code",
   "execution_count": 56,
   "metadata": {
    "collapsed": false,
    "deletable": true,
    "editable": true
   },
   "outputs": [
    {
     "name": "stdout",
     "output_type": "stream",
     "text": [
      "== SkLearn MaxEnt ==\n",
      "male\n",
      "0.8075471698113208\n",
      "\n",
      "== NLTK MaxEnt ==\n",
      "male\n",
      "0.8062893081761007\n",
      "  -4.134 endswith=='a' and label is 'male'\n",
      "  -2.901 endswith=='k' and label is 'female'\n",
      "  -2.878 endswith=='p' and label is 'female'\n",
      "  -2.502 count(v)==2 and label is 'male'\n",
      "   2.310 count(j)==2 and label is 'female'\n",
      "  -2.159 endswith=='f' and label is 'female'\n",
      "  -1.929 endswith=='v' and label is 'female'\n",
      "  -1.469 endswith=='d' and label is 'female'\n",
      "  -1.431 endswith=='i' and label is 'male'\n",
      "   1.396 endswith=='c' and label is 'male'\n",
      "None\n"
     ]
    }
   ],
   "source": [
    "print('== SkLearn MaxEnt ==')\n",
    "print(sklearn_classifier.classify(gender_features('mark')))\n",
    "print(nltk.classify.accuracy(sklearn_classifier, test_set))\n",
    "print()\n",
    "print('== NLTK MaxEnt ==')\n",
    "print(nltk_classifier.classify(gender_features('mark')))\n",
    "print(nltk.classify.accuracy(nltk_classifier, test_set))\n",
    "print(nltk_classifier.show_most_informative_features(10))\n"
   ]
  },
  {
   "cell_type": "code",
   "execution_count": 50,
   "metadata": {
    "collapsed": false,
    "deletable": true,
    "editable": true
   },
   "outputs": [
    {
     "data": {
      "text/plain": [
       "'female'"
      ]
     },
     "execution_count": 50,
     "metadata": {},
     "output_type": "execute_result"
    }
   ],
   "source": [
    "sklearn_classifier.classify(gender_features('JhihJie'))"
   ]
  },
  {
   "cell_type": "code",
   "execution_count": null,
   "metadata": {
    "collapsed": true
   },
   "outputs": [],
   "source": []
  }
 ],
 "metadata": {
  "kernelspec": {
   "display_name": "Python 3",
   "language": "python",
   "name": "python3"
  },
  "language_info": {
   "codemirror_mode": {
    "name": "ipython",
    "version": 3
   },
   "file_extension": ".py",
   "mimetype": "text/x-python",
   "name": "python",
   "nbconvert_exporter": "python",
   "pygments_lexer": "ipython3",
   "version": "3.6.0"
  }
 },
 "nbformat": 4,
 "nbformat_minor": 0
}
