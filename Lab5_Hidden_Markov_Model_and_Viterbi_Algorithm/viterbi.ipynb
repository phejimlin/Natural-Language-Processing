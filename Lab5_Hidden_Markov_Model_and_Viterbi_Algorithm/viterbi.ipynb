{
 "cells": [
  {
   "cell_type": "code",
   "execution_count": 233,
   "metadata": {
    "collapsed": false,
    "deletable": true,
    "editable": true
   },
   "outputs": [],
   "source": [
    "from math import log10\n",
    "from collections import Counter, defaultdict\n",
    "import codecs\n",
    "import math\n"
   ]
  },
  {
   "cell_type": "markdown",
   "metadata": {
    "deletable": true,
    "editable": true
   },
   "source": [
    "# 中文 Language Model"
   ]
  },
  {
   "cell_type": "code",
   "execution_count": 234,
   "metadata": {
    "collapsed": false,
    "deletable": true,
    "editable": true
   },
   "outputs": [],
   "source": [
    "filename = \"corpus.txt\"\n",
    "V1 = 10000\n",
    "V2 = 10000**2\n",
    "k = 10\n",
    "\n",
    "def to_ngrams(unigrams, length):\n",
    "    return zip(*[unigrams[i:] for i in range(length)])\n",
    "\n",
    "unigram_counts, bigram_counts = Counter(), Counter()\n",
    "with open(filename, 'r') as text_file:\n",
    "    for line in text_file:\n",
    "        unigram_counts.update(line)\n",
    "        bigram_counts.update(to_ngrams(line, 2))"
   ]
  },
  {
   "cell_type": "code",
   "execution_count": 235,
   "metadata": {
    "collapsed": false,
    "deletable": true,
    "editable": true
   },
   "outputs": [
    {
     "name": "stdout",
     "output_type": "stream",
     "text": [
      "[('，', 410592), ('的', 257505), ('。', 161286), ('一', 92968), ('是', 88867)]\n"
     ]
    }
   ],
   "source": [
    "print(unigram_counts.most_common(5))"
   ]
  },
  {
   "cell_type": "code",
   "execution_count": 236,
   "metadata": {
    "collapsed": false,
    "deletable": true,
    "editable": true
   },
   "outputs": [
    {
     "name": "stdout",
     "output_type": "stream",
     "text": [
      "[(('我', '們'), 15613), (('，', '我'), 13995), (('一', '個'), 13063), (('，', '但'), 9518), (('，', '而'), 8847)]\n"
     ]
    }
   ],
   "source": [
    "print(bigram_counts.most_common(5))"
   ]
  },
  {
   "cell_type": "code",
   "execution_count": 237,
   "metadata": {
    "collapsed": false,
    "deletable": true,
    "editable": true
   },
   "outputs": [
    {
     "name": "stdout",
     "output_type": "stream",
     "text": [
      "3991 99313298\n"
     ]
    }
   ],
   "source": [
    "# compute N1, N2, N3...\n",
    "unigram_Nr = Counter(unigram_counts.values())\n",
    "bigram_Nr = Counter(bigram_counts.values())\n",
    "# compute N0\n",
    "unigram_Nr[0] = V1 - len(unigram_counts)\n",
    "bigram_Nr[0] = V2 - len(bigram_counts)\n",
    "print(unigram_Nr[0], bigram_Nr[0])"
   ]
  },
  {
   "cell_type": "code",
   "execution_count": 238,
   "metadata": {
    "collapsed": false,
    "deletable": true,
    "editable": true
   },
   "outputs": [
    {
     "name": "stdout",
     "output_type": "stream",
     "text": [
      "[0.10398396391881734, 1.3156626506024096, 2.340659340659341, 3.1737089201877935, 3.4023668639053253, 5.947826086956522, 6.078947368421052, 6.545454545454546, 8.444444444444445, 10.921052631578947]\n",
      "[0.0031815880286243238, 0.6897909321653047, 1.525573969057975, 2.5323901981305714, 3.4326635314236853, 4.47054427699589, 5.380955034267566, 6.408814149028704, 7.361563517915309, 8.57853982300885]\n"
     ]
    }
   ],
   "source": [
    "# compute r\n",
    "unigram_r = [(i+1) * unigram_Nr[i+1] / unigram_Nr[i] for i in range(k)]\n",
    "bigram_r = [(i+1) * bigram_Nr[i+1] / bigram_Nr[i] for i in range(k)]\n",
    "print(unigram_r)\n",
    "print(bigram_r)"
   ]
  },
  {
   "cell_type": "code",
   "execution_count": 239,
   "metadata": {
    "collapsed": false,
    "deletable": true,
    "editable": true
   },
   "outputs": [
    {
     "name": "stdout",
     "output_type": "stream",
     "text": [
      "7672143 7663643\n"
     ]
    }
   ],
   "source": [
    "# compute normalize factor\n",
    "# compute N\n",
    "unigram_N = sum(unigram_counts.values())\n",
    "bigram_N = sum(bigram_counts.values())\n",
    "print(unigram_N, bigram_N)"
   ]
  },
  {
   "cell_type": "code",
   "execution_count": 240,
   "metadata": {
    "collapsed": false,
    "deletable": true,
    "editable": true
   },
   "outputs": [
    {
     "name": "stdout",
     "output_type": "stream",
     "text": [
      "7672973 7741193\n"
     ]
    }
   ],
   "source": [
    "# compute new probability sum\n",
    "unigram_N_ = unigram_N + k * unigram_Nr[k]\n",
    "bigram_N_ = bigram_N + k * bigram_Nr[k]\n",
    "print(unigram_N_, bigram_N_)"
   ]
  },
  {
   "cell_type": "code",
   "execution_count": 241,
   "metadata": {
    "collapsed": false,
    "deletable": true,
    "editable": true
   },
   "outputs": [
    {
     "name": "stdout",
     "output_type": "stream",
     "text": [
      "0.9998918281088699 0.9899821642478104\n"
     ]
    }
   ],
   "source": [
    "# normalize factor: N/N’\n",
    "unigram_norm_factor = unigram_N / unigram_N_\n",
    "bigram_norm_factor = bigram_N / bigram_N_\n",
    "print(unigram_norm_factor, bigram_norm_factor)"
   ]
  },
  {
   "cell_type": "code",
   "execution_count": 242,
   "metadata": {
    "collapsed": true,
    "deletable": true,
    "editable": true
   },
   "outputs": [],
   "source": [
    "# Estimating P(w) and P(w’|w)\n",
    "def prob_1word(unigram):\n",
    "    count = unigram_counts[unigram]\n",
    "    r = unigram_r[count] if count < k else count\n",
    "    return log10(r / unigram_N_)\n",
    "def prob_2words(text_front, text_rear):\n",
    "    count = bigram_counts[text_front, text_rear]\n",
    "    r = bigram_r[count] if count < k else count\n",
    "    return log10(r / bigram_N_)\n",
    "def prob_word_by_word(text_front, text_rear):\n",
    "    return prob_2words(text_front, text_rear) - prob_1word(text_front)\n",
    "def prob_words(words):\n",
    "    return prob_1word(words[0]) + sum(prob_word_by_word(words[i-1], words[i]) for i in range(1, len(words)))\n",
    "def prob_text(text):\n",
    "    return prob_words(text.lower().split())"
   ]
  },
  {
   "cell_type": "code",
   "execution_count": 243,
   "metadata": {
    "collapsed": true,
    "deletable": true,
    "editable": true
   },
   "outputs": [],
   "source": [
    "# your code here (probability of word sequences)\n",
    "\n",
    "# (you can use log to speed up the calculation)\n",
    "unicount_log = {k: log10(v) for k, v in unigram_counts.items()}\n",
    "bicount_log = {k: log10(v) for k, v in bigram_counts.items()}\n",
    "unigram_r_log = [log10(r) for r in unigram_r]\n",
    "bigram_r_log = [log10(r) for r in bigram_r]\n",
    "unigram_N_log = log10(unigram_N_)\n",
    "bigram_N_log = log10(bigram_N_)\n",
    "\n",
    "\n",
    "def prob_1word(unigram):\n",
    "    count = unigram_counts[unigram]\n",
    "    r = unigram_r_log[count] if count < k else unicount_log[unigram]\n",
    "    return r - unigram_N_log\n",
    "def prob_2words(text_front, text_rear):\n",
    "    count = bigram_counts[text_front, text_rear]\n",
    "    r = bigram_r_log[count] if count < k else bicount_log[text_front, text_rear]\n",
    "    return r - bigram_N_log"
   ]
  },
  {
   "cell_type": "markdown",
   "metadata": {
    "deletable": true,
    "editable": true
   },
   "source": [
    "### 階段測試"
   ]
  },
  {
   "cell_type": "code",
   "execution_count": 244,
   "metadata": {
    "collapsed": false,
    "deletable": true,
    "editable": true
   },
   "outputs": [
    {
     "name": "stdout",
     "output_type": "stream",
     "text": [
      "-3.2520005018213456\n",
      "-3.2424991497464855\n",
      "-4.366363661723275\n",
      "-1.1143631599019295\n"
     ]
    }
   ],
   "source": [
    "print(prob_1word(u'清'))\n",
    "print(prob_1word(u'華'))\n",
    "print(prob_2words(u'清', u'華'))\n",
    "print(prob_word_by_word(u'清',u'華'))"
   ]
  },
  {
   "cell_type": "code",
   "execution_count": 245,
   "metadata": {
    "collapsed": false,
    "deletable": true,
    "editable": true
   },
   "outputs": [],
   "source": [
    "import pandas\n",
    "%matplotlib inline\n",
    "s = pandas.Series(prob_1word(unigram) for unigram in unigram_counts)"
   ]
  },
  {
   "cell_type": "code",
   "execution_count": 246,
   "metadata": {
    "collapsed": false,
    "deletable": true,
    "editable": true
   },
   "outputs": [
    {
     "data": {
      "text/plain": [
       "<matplotlib.axes._subplots.AxesSubplot at 0x1159ca9b0>"
      ]
     },
     "execution_count": 246,
     "metadata": {},
     "output_type": "execute_result"
    },
    {
     "data": {
      "image/png": "[encoded data removed]",
      "text/plain": [
       "<matplotlib.figure.Figure at 0x1159c0e10>"
      ]
     },
     "metadata": {},
     "output_type": "display_data"
    }
   ],
   "source": [
    "s.hist(bins=100)"
   ]
  },
  {
   "cell_type": "markdown",
   "metadata": {
    "deletable": true,
    "editable": true
   },
   "source": [
    "# 注音對應表"
   ]
  },
  {
   "cell_type": "code",
   "execution_count": 247,
   "metadata": {
    "collapsed": false,
    "deletable": true,
    "editable": true
   },
   "outputs": [],
   "source": [
    "bpmf1_to_chars = defaultdict(list)\n",
    "bpmf_frequency_in_chinese = defaultdict()\n",
    "with codecs.open(\"bpmf.txt\", 'r', 'utf-8') as bpmf_file:\n",
    "    for line in bpmf_file:\n",
    "        data_list = line.split('\t')\n",
    "        \n",
    "        bpmf = data_list[0]\n",
    "        chinese_word = data_list[2]\n",
    "        if len(bpmf1_to_chars[bpmf]) == 0:\n",
    "            bpmf1_to_chars[bpmf] = [chinese_word]\n",
    "        else:\n",
    "            bpmf1_to_chars[bpmf].append(chinese_word)\n",
    "        \n",
    "        chinese_frequency = int(data_list[1])\n",
    "        if chinese_word not in bpmf_frequency_in_chinese:\n",
    "            bpmf_frequency_in_chinese[chinese_word] = {bpmf: chinese_frequency}\n",
    "        else:\n",
    "            if bpmf in bpmf_frequency_in_chinese[chinese_word]:\n",
    "                bpmf_frequency_in_chinese[chinese_word].update({bpmf: chinese_frequency+bpmf_frequency_in_chinese[chinese_word][bpmf]})\n",
    "            else:\n",
    "                bpmf_frequency_in_chinese[chinese_word].update({bpmf: chinese_frequency})\n"
   ]
  },
  {
   "cell_type": "markdown",
   "metadata": {
    "deletable": true,
    "editable": true
   },
   "source": [
    "### 階段測試"
   ]
  },
  {
   "cell_type": "code",
   "execution_count": 248,
   "metadata": {
    "collapsed": false,
    "deletable": true,
    "editable": true
   },
   "outputs": [
    {
     "data": {
      "text/plain": [
       "['唯', '玩', '臥', '悟', '悟', '無', '瘟', '霧', '娃', '襪']"
      ]
     },
     "execution_count": 248,
     "metadata": {},
     "output_type": "execute_result"
    }
   ],
   "source": [
    "bpmf1_to_chars['ㄨ'][:10]"
   ]
  },
  {
   "cell_type": "markdown",
   "metadata": {
    "deletable": true,
    "editable": true
   },
   "source": [
    "[u'溫',\n",
    " u'無',\n",
    " u'衛',\n",
    " u'罔',\n",
    " u'晚',\n",
    " u'頑',\n",
    " u'挖',\n",
    " u'蔚',\n",
    " u'烷',\n",
    " u'王']"
   ]
  },
  {
   "cell_type": "code",
   "execution_count": 249,
   "metadata": {
    "collapsed": false,
    "deletable": true,
    "editable": true
   },
   "outputs": [
    {
     "data": {
      "text/plain": [
       "{'ㄚ': 771, 'ㄜ': 32}"
      ]
     },
     "execution_count": 249,
     "metadata": {},
     "output_type": "execute_result"
    }
   ],
   "source": [
    "bpmf_frequency_in_chinese['阿']"
   ]
  },
  {
   "cell_type": "markdown",
   "metadata": {
    "deletable": true,
    "editable": true
   },
   "source": [
    "# viterbi"
   ]
  },
  {
   "cell_type": "code",
   "execution_count": 250,
   "metadata": {
    "collapsed": true,
    "deletable": true,
    "editable": true
   },
   "outputs": [],
   "source": [
    "def start_p(word):\n",
    "    return prob_1word(word)\n",
    "\n",
    "def trans_p(word1, word2):\n",
    "    return prob_word_by_word(word1, word2)\n",
    "\n",
    "def emit_p(word, bpmf):\n",
    "    # Handle some word not in dict such as ，\n",
    "    if word not in bpmf_frequency_in_chinese:\n",
    "        return 0\n",
    "    bpmf_frequency_dict = bpmf_frequency_in_chinese[word]\n",
    "    \n",
    "    # Handle if user input chinese.\n",
    "    if bpmf not in bpmf_frequency_dict:\n",
    "        return 0\n",
    "    \n",
    "    sum_of_frequency = sum(bpmf_frequency_dict.values())\n",
    "    return math.log10(bpmf_frequency_dict[bpmf] / sum_of_frequency)\n"
   ]
  },
  {
   "cell_type": "code",
   "execution_count": 252,
   "metadata": {
    "collapsed": false,
    "deletable": true,
    "editable": true
   },
   "outputs": [],
   "source": [
    "def viterbi(obs, states):\n",
    "    V = [{}]\n",
    "    path = {}\n",
    "\n",
    "    # Initialize base cases (t == 0)\n",
    "    for y in states[0]:\n",
    "        V[0][y] = start_p(y) + emit_p(y, obs[0])  # emit_p[y][obs[0]\n",
    "        path[y] = [y]\n",
    "\n",
    "    # Run Viterbi for t > 0\n",
    "    for t in range(1,len(obs)):\n",
    "        V.append({})\n",
    "        newpath = {}\n",
    "\n",
    "        for y in states[t]:\n",
    "            (prob, state) = max([(V[t-1][y0] + trans_p(y0, y) + emit_p(y, obs[t]), y0) for y0 in states[t-1]])\n",
    "            V[t][y] = prob\n",
    "            newpath[y] = path[state] + [y]\n",
    "\n",
    "        # Don't need to remember the old paths\n",
    "        path = newpath\n",
    "\n",
    "### for log ###\n",
    "#     result = []\n",
    "#     for y in states[len(obs) - 1]:\n",
    "#         result.append((V[len(obs) - 1][y], y))\n",
    "#     (prob, state) = max(result)\n",
    "#     print(result)\n",
    "#     print(path)\n",
    "### for log ###\n",
    "\n",
    "    (prob, state) = max([(V[len(obs) - 1][y], y) for y in states[len(obs) - 1]])\n",
    "    return (prob, path[state])\n"
   ]
  },
  {
   "cell_type": "code",
   "execution_count": 253,
   "metadata": {
    "collapsed": false,
    "deletable": true,
    "editable": true
   },
   "outputs": [],
   "source": [
    "def bpmf1s_to_chars(sentence):\n",
    "    observations = ()\n",
    "    emission = {}\n",
    "    for index, word in enumerate(sentence):\n",
    "        observations += tuple(word)\n",
    "        chinese_list = bpmf1_to_chars[word]\n",
    "        if len(chinese_list) is 0:\n",
    "            chinese_list = [word]\n",
    "        emission[index] = chinese_list\n",
    "\n",
    "    prob, path = viterbi(observations, emission)\n",
    "    return (prob, path)"
   ]
  },
  {
   "cell_type": "markdown",
   "metadata": {
    "deletable": true,
    "editable": true
   },
   "source": [
    "### 最終測試"
   ]
  },
  {
   "cell_type": "code",
   "execution_count": 255,
   "metadata": {
    "collapsed": false,
    "deletable": true,
    "editable": true
   },
   "outputs": [
    {
     "data": {
      "text/plain": [
       "(-3.1548887442172044, ['不', '是'])"
      ]
     },
     "execution_count": 255,
     "metadata": {},
     "output_type": "execute_result"
    }
   ],
   "source": [
    "bpmf1s_to_chars('ㄅㄕ')"
   ]
  },
  {
   "cell_type": "markdown",
   "metadata": {
    "deletable": true,
    "editable": true
   },
   "source": [
    "(-3.1548887442172044,\n",
    " [u'不', u'是'],\n",
    " <matplotlib.axes.AxesSubplot object at 0x113c11a10>)"
   ]
  },
  {
   "cell_type": "code",
   "execution_count": 256,
   "metadata": {
    "collapsed": false,
    "deletable": true,
    "editable": true
   },
   "outputs": [
    {
     "data": {
      "text/plain": [
       "(-8.53669708842652, ['中', '華', '民', '國', '政', '府'])"
      ]
     },
     "execution_count": 256,
     "metadata": {},
     "output_type": "execute_result"
    }
   ],
   "source": [
    "bpmf1s_to_chars(u'ㄓㄏㄇㄍㄓㄈ')"
   ]
  },
  {
   "cell_type": "markdown",
   "metadata": {
    "deletable": true,
    "editable": true
   },
   "source": [
    "(-8.53669708842652,\n",
    " [u'中', u'華', u'民', u'國', u'政', u'府'],\n",
    " <matplotlib.axes.AxesSubplot object at 0x113a22d90>)"
   ]
  },
  {
   "cell_type": "code",
   "execution_count": 257,
   "metadata": {
    "collapsed": false,
    "deletable": true,
    "editable": true
   },
   "outputs": [
    {
     "data": {
      "text/plain": [
       "(-10.605441609165581, ['自', '然', '語', '言', '處', '理'])"
      ]
     },
     "execution_count": 257,
     "metadata": {},
     "output_type": "execute_result"
    }
   ],
   "source": [
    "bpmf1s_to_chars(u'ㄗㄖㄩㄧㄔㄌ')"
   ]
  },
  {
   "cell_type": "code",
   "execution_count": 258,
   "metadata": {
    "collapsed": false,
    "deletable": true,
    "editable": true
   },
   "outputs": [
    {
     "data": {
      "text/plain": [
       "(-6.9140173283696615, ['清', '華', '大', '學'])"
      ]
     },
     "execution_count": 258,
     "metadata": {},
     "output_type": "execute_result"
    }
   ],
   "source": [
    "bpmf1s_to_chars(u'ㄑㄏㄉㄒ')"
   ]
  },
  {
   "cell_type": "code",
   "execution_count": 259,
   "metadata": {
    "collapsed": false,
    "deletable": true,
    "editable": true
   },
   "outputs": [
    {
     "data": {
      "text/plain": [
       "(-6.5238865919240565, ['資', '訊', '工', '程'])"
      ]
     },
     "execution_count": 259,
     "metadata": {},
     "output_type": "execute_result"
    }
   ],
   "source": [
    "bpmf1s_to_chars(u'ㄗㄒㄍㄔ')"
   ]
  },
  {
   "cell_type": "code",
   "execution_count": 260,
   "metadata": {
    "collapsed": false,
    "deletable": true,
    "editable": true
   },
   "outputs": [
    {
     "data": {
      "text/plain": [
       "(-8.975520402582454, ['這', '是', '一', '本', '書'])"
      ]
     },
     "execution_count": 260,
     "metadata": {},
     "output_type": "execute_result"
    }
   ],
   "source": [
    "bpmf1s_to_chars(u'ㄓㄕㄧㄅ書')"
   ]
  },
  {
   "cell_type": "code",
   "execution_count": 261,
   "metadata": {
    "collapsed": false,
    "deletable": true,
    "editable": true
   },
   "outputs": [
    {
     "data": {
      "text/plain": [
       "(-14.798908068226584, ['立', '法', '委', '員', '都', '在', '吵', '架'])"
      ]
     },
     "execution_count": 261,
     "metadata": {},
     "output_type": "execute_result"
    }
   ],
   "source": [
    "bpmf1s_to_chars(u'ㄌㄈㄨㄩㄉㄗㄔ架')"
   ]
  },
  {
   "cell_type": "code",
   "execution_count": 262,
   "metadata": {
    "collapsed": false,
    "deletable": true,
    "editable": true
   },
   "outputs": [
    {
     "data": {
      "text/plain": [
       "(-7.211231492855711, ['我', '想', '睡', '覺'])"
      ]
     },
     "execution_count": 262,
     "metadata": {},
     "output_type": "execute_result"
    }
   ],
   "source": [
    "bpmf1s_to_chars(u'ㄨㄒ睡ㄐ')"
   ]
  },
  {
   "cell_type": "code",
   "execution_count": 263,
   "metadata": {
    "collapsed": false,
    "deletable": true,
    "editable": true
   },
   "outputs": [
    {
     "data": {
      "text/plain": [
       "(-22.12693862822828, ['肚', '子', '很', '餓', '，', '快', '點', '下', '課'])"
      ]
     },
     "execution_count": 263,
     "metadata": {},
     "output_type": "execute_result"
    }
   ],
   "source": [
    "bpmf1s_to_chars(u'肚ㄗㄏㄜ，ㄎ點下ㄎ')"
   ]
  },
  {
   "cell_type": "code",
   "execution_count": null,
   "metadata": {
    "collapsed": true,
    "deletable": true,
    "editable": true
   },
   "outputs": [],
   "source": []
  }
 ],
 "metadata": {
  "kernelspec": {
   "display_name": "Python 3",
   "language": "python",
   "name": "python3"
  },
  "language_info": {
   "codemirror_mode": {
    "name": "ipython",
    "version": 3
   },
   "file_extension": ".py",
   "mimetype": "text/x-python",
   "name": "python",
   "nbconvert_exporter": "python",
   "pygments_lexer": "ipython3",
   "version": "3.6.0"
  }
 },
 "nbformat": 4,
 "nbformat_minor": 0
}
