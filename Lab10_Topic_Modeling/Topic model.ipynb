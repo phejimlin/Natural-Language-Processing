{
 "cells": [
  {
   "cell_type": "code",
   "execution_count": 68,
   "metadata": {
    "collapsed": false,
    "deletable": true,
    "editable": true
   },
   "outputs": [],
   "source": [
    "#coding=utf-8\n",
    "from sklearn.datasets import load_files\n",
    "import jieba\n",
    "from sklearn.feature_extraction.text import TfidfVectorizer, CountVectorizer\n",
    "from sklearn.decomposition import NMF, LatentDirichletAllocation"
   ]
  },
  {
   "cell_type": "code",
   "execution_count": 102,
   "metadata": {
    "collapsed": false,
    "deletable": true,
    "editable": true
   },
   "outputs": [],
   "source": [
    "dataset = load_files(container_path='data', shuffle=False)\n"
   ]
  },
  {
   "cell_type": "code",
   "execution_count": 103,
   "metadata": {
    "collapsed": false,
    "deletable": true,
    "editable": true
   },
   "outputs": [
    {
     "name": "stdout",
     "output_type": "stream",
     "text": [
      "dict_keys(['data', 'filenames', 'target_names', 'target', 'DESCR'])\n",
      "(2920,)\n"
     ]
    }
   ],
   "source": [
    "print(dataset.keys())\n",
    "print(dataset.target.shape)"
   ]
  },
  {
   "cell_type": "code",
   "execution_count": 104,
   "metadata": {
    "collapsed": false,
    "deletable": true,
    "editable": true
   },
   "outputs": [],
   "source": [
    "test = dataset.data[0].decode(encoding=\"utf-8\", errors=\"strict\")"
   ]
  },
  {
   "cell_type": "code",
   "execution_count": 105,
   "metadata": {
    "collapsed": false
   },
   "outputs": [],
   "source": [
    "for index, data in enumerate(dataset.data):\n",
    "    seg_list = jieba.cut(data.decode(encoding=\"utf-8\", errors=\"strict\"))\n",
    "    dataset.data[index] = \" \".join(seg_list)"
   ]
  },
  {
   "cell_type": "code",
   "execution_count": 84,
   "metadata": {
    "collapsed": false,
    "deletable": true,
    "editable": true
   },
   "outputs": [
    {
     "name": "stdout",
     "output_type": "stream",
     "text": [
      "NBA ／ 詹皇 對決 「 舞王 」   攻防 間會 再 「 吹 」 出什麼 火花 \n",
      " 記者 林暐凱 ／ 綜合 報導 今日 新聞 NOWnews2017 年 4 月 15 日 \n",
      " NBA 東區 季後賽 最 具 話題 組合 ， 將 是 由 第 2 種子 「 衛冕 軍 」 騎士 對 上 第 7 種子 溜馬 ， 騎士 在 例行賽 取得 3 勝 1 敗 的 優勢 ， 「 詹皇 」 LeBron   James 在 賽前 喊出 必勝 宣言 ， 他 與 「 舞王 」 Lance   Stephenson 之間 所 擦出 的 火花 ， 絕對 是 首 輪 的 一 大 看 點 。 \n",
      " 騎士 本 賽季 到後 半段 全隊 看似 有些 疲乏 ， 休息室 更 傳出 不 和諧 的 聲音 ， 因此 讓出 坐穩 大 半 球季 的 東區 王座 ， 甚至 在 例行賽 最後 更 苦吞 4 連敗 ， 是 季後賽 即將 開打 的 一 大 隱憂 。 \n",
      " 雖然 說 騎士 本季 戰績 仍然 相當 優秀 ， 加上 總教練 Tyronn   Lue 表示 大家 不用 太過 擔心 ， 在 季後賽 會 有 不同 的 防守 策略 ， 但 騎士 防守 效率值 不佳 也 是 不爭 的 事實 ， 三月 防守 效率值 曾 跌至 全 聯盟 第 29 位 ， 僅 勝過 湖人 ， 防守 絕對 是 衛冕 軍 目前 最 深刻 的 痛 ， 如何 改善 還是 考驗 著 總教練 的 智慧 。 \n",
      " 騎士 也 是 不用 太過 擔憂 ， 畢竟 對 上 溜馬 例行賽 取得 3 勝 1 敗 的 戰績 ， 其 中 1 敗 還是 在 James 缺陣 情況 下 敗北 ， 只是 季後賽 絕對 是 另 一 個 檔次 ， 還是 得要 戰戰兢兢 面對 溜馬 ， 不得 鬆懈 。 \n",
      " 溜馬 方面 ， 在 球季 尾聲 簽回 Stephenson 後 果然 話題 十足 ， 大家 難以 忘懷 2014 東區 冠軍戰 ， 溜馬 對決 熱火 ， Stephenson 與 James 攻防 之間 所 擦出 的 火花 ， 絕對 也 是 本 系列賽 最 大 看 點 之 一 。 \n",
      " 本季 兩 軍 最後 一 次 殺到 2 度 延長 才 分出 勝負 ， 就 可以 看出 兩 隊 實力 有 逐漸 縮小 的 趨勢 ， Myles   Turner 絕對 是 溜馬 的 關鍵 人物 ， 面對 禁區 相較 之下 較為 薄弱 的 騎士 ， Turner 的 表現 足以 影響 整個 系列賽 的 戰局 。 \n",
      " 雙方 將 在 4 月 16 日 凌晨 3 點 展開 首戰 ， 本 系列賽 堪稱 東區 首 輪 最 精彩 ， 請 球迷 們千萬 不要 錯過 。 \n",
      " ★ 更多 相關 新聞 \n",
      " 暴龍 「 雙槍 」 太 凶猛   公鹿 難逃 恐成 爪下 亡魂 快艇 陣容 最後 一 搏 ？   爵士 恐 難奏 勝利 樂章 雖然 73 勝 不再   勇士隊 本季 還是 改寫 七 項 NBA 紀錄 灰熊 絕對 不容 小覷   馬刺 嚴防 遭 逆襲 噩夢 再次 上演 諾威 茨基 證實   將 為 小牛 效力 第 20 個 球季 \n",
      " 【 更多 照片 請點 以下 圖輯 】 \n",
      "\n"
     ]
    }
   ],
   "source": [
    "seg_list = jieba.cut(test) \n",
    "print(\" \".join(seg_list))"
   ]
  },
  {
   "cell_type": "code",
   "execution_count": 106,
   "metadata": {
    "collapsed": false
   },
   "outputs": [
    {
     "name": "stdout",
     "output_type": "stream",
     "text": [
      "NBA ／ 詹皇 對決 「 舞王 」   攻防 間會 再 「 吹 」 出什麼 火花 \n",
      " 記者 林暐凱 ／ 綜合 報導 今日 新聞 NOWnews2017 年 4 月 15 日 \n",
      " NBA 東區 季後賽 最 具 話題 組合 ， 將 是 由 第 2 種子 「 衛冕 軍 」 騎士 對 上 第 7 種子 溜馬 ， 騎士 在 例行賽 取得 3 勝 1 敗 的 優勢 ， 「 詹皇 」 LeBron   James 在 賽前 喊出 必勝 宣言 ， 他 與 「 舞王 」 Lance   Stephenson 之間 所 擦出 的 火花 ， 絕對 是 首 輪 的 一 大 看 點 。 \n",
      " 騎士 本 賽季 到後 半段 全隊 看似 有些 疲乏 ， 休息室 更 傳出 不 和諧 的 聲音 ， 因此 讓出 坐穩 大 半 球季 的 東區 王座 ， 甚至 在 例行賽 最後 更 苦吞 4 連敗 ， 是 季後賽 即將 開打 的 一 大 隱憂 。 \n",
      " 雖然 說 騎士 本季 戰績 仍然 相當 優秀 ， 加上 總教練 Tyronn   Lue 表示 大家 不用 太過 擔心 ， 在 季後賽 會 有 不同 的 防守 策略 ， 但 騎士 防守 效率值 不佳 也 是 不爭 的 事實 ， 三月 防守 效率值 曾 跌至 全 聯盟 第 29 位 ， 僅 勝過 湖人 ， 防守 絕對 是 衛冕 軍 目前 最 深刻 的 痛 ， 如何 改善 還是 考驗 著 總教練 的 智慧 。 \n",
      " 騎士 也 是 不用 太過 擔憂 ， 畢竟 對 上 溜馬 例行賽 取得 3 勝 1 敗 的 戰績 ， 其 中 1 敗 還是 在 James 缺陣 情況 下 敗北 ， 只是 季後賽 絕對 是 另 一 個 檔次 ， 還是 得要 戰戰兢兢 面對 溜馬 ， 不得 鬆懈 。 \n",
      " 溜馬 方面 ， 在 球季 尾聲 簽回 Stephenson 後 果然 話題 十足 ， 大家 難以 忘懷 2014 東區 冠軍戰 ， 溜馬 對決 熱火 ， Stephenson 與 James 攻防 之間 所 擦出 的 火花 ， 絕對 也 是 本 系列賽 最 大 看 點 之 一 。 \n",
      " 本季 兩 軍 最後 一 次 殺到 2 度 延長 才 分出 勝負 ， 就 可以 看出 兩 隊 實力 有 逐漸 縮小 的 趨勢 ， Myles   Turner 絕對 是 溜馬 的 關鍵 人物 ， 面對 禁區 相較 之下 較為 薄弱 的 騎士 ， Turner 的 表現 足以 影響 整個 系列賽 的 戰局 。 \n",
      " 雙方 將 在 4 月 16 日 凌晨 3 點 展開 首戰 ， 本 系列賽 堪稱 東區 首 輪 最 精彩 ， 請 球迷 們千萬 不要 錯過 。 \n",
      " ★ 更多 相關 新聞 \n",
      " 暴龍 「 雙槍 」 太 凶猛   公鹿 難逃 恐成 爪下 亡魂 快艇 陣容 最後 一 搏 ？   爵士 恐 難奏 勝利 樂章 雖然 73 勝 不再   勇士隊 本季 還是 改寫 七 項 NBA 紀錄 灰熊 絕對 不容 小覷   馬刺 嚴防 遭 逆襲 噩夢 再次 上演 諾威 茨基 證實   將 為 小牛 效力 第 20 個 球季 \n",
      " 【 更多 照片 請點 以下 圖輯 】 \n",
      "\n",
      "綠委 : 問題 不 在 球衣   出在 單項 協會 的 運作 \n",
      " 原視 2017 年 5 月 2 日 \n",
      " 【 綜合 報導 】   2017 - 05 - 02   世界 羽球 球后 戴資穎 亞錦賽摘金 ， 但 球衣 不 合身 ， 讓 她 打得 很 辛苦 。 日前 體育署 公布 體育 單項 協會 訪評 結果 ， 羽球 ...   完整 新聞 報導 \n",
      "\n",
      "世界 競技 疊杯 錦標賽   首 次 台灣 舉行 \n",
      " 原視 2017 年 4 月 17 日 \n",
      " 【 綜合 報導   高雄市 】   2017 - 04 - 17   評審 指令 一下 ， 選手 開始 動作 ， 要 在 最 短 時間 把 杯子 按 規律 疊高 後 再 還原 。 這 個 比賽 稱為 競技 疊杯 ， 從 美國 加 ...   完整 新聞 報導 \n",
      "\n",
      "世界球 后 戴資穎   奪 羽球 亞錦賽 我國 首金 \n",
      " 原視 2017 年 5 月 2 日 \n",
      " 【 綜合 報導 】   2017 - 05 - 02   奪下 台灣 55 年來 ， 第 一面 亞錦賽 金牌 的 羽球 球后 戴資穎 ， 反 戴 鴨舌帽 步入 國門 ， 空服員 趕緊 上前 獻花 。 雖然 ...   完整 新聞 報導 \n",
      "\n",
      "全國 小學 籃球 聯賽   各 縣市 卯 全力 拚冠 \n",
      " 原視 2017 年 5 月 5 日 \n",
      " 【 Husung   Nahaisulan / Piya   新 北市 板橋 】   2017 - 05 - 05   來自 宜蘭 南澳 國小 籃球隊 ， 對 上 雲林縣 立仁 國小 ， 終場 南澳 國小 以 38 比 30 取得 四強 門票 。 教練 表示 由 ...   完整 新聞 報導 \n",
      "\n"
     ]
    }
   ],
   "source": [
    "for data in dataset.data[:5]:\n",
    "    print(data)"
   ]
  },
  {
   "cell_type": "code",
   "execution_count": 107,
   "metadata": {
    "collapsed": true,
    "deletable": true,
    "editable": true
   },
   "outputs": [],
   "source": [
    "n_samples = 2000\n",
    "n_features = 1000\n",
    "n_topics = 10\n",
    "n_top_words = 20\n",
    "\n",
    "data_samples = dataset.data[:n_samples]\n",
    "\n",
    "def print_top_words(model, feature_names, n_top_words):\n",
    "    for topic_idx, topic in enumerate(model.components_):\n",
    "        print(\"Topic #%d:\" % topic_idx)\n",
    "        print(\" \".join([feature_names[i]\n",
    "                        for i in topic.argsort()[:-n_top_words - 1:-1]]))\n",
    "    print()"
   ]
  },
  {
   "cell_type": "code",
   "execution_count": 108,
   "metadata": {
    "collapsed": false
   },
   "outputs": [
    {
     "name": "stdout",
     "output_type": "stream",
     "text": [
      "Extracting tf-idf features for NMF...\n"
     ]
    }
   ],
   "source": [
    "# Use tf-idf features for NMF.\n",
    "print(\"Extracting tf-idf features for NMF...\")\n",
    "tfidf_vectorizer = TfidfVectorizer(max_df=0.95, min_df=2,\n",
    "                                   max_features=n_features,\n",
    "                                   stop_words=None)"
   ]
  },
  {
   "cell_type": "code",
   "execution_count": 109,
   "metadata": {
    "collapsed": false
   },
   "outputs": [
    {
     "name": "stdout",
     "output_type": "stream",
     "text": [
      "Extracting tf features for LDA...\n",
      "Fitting the NMF model with tf-idf features, n_samples=2000 and n_features=1000...\n",
      "\n",
      "Topics in NMF model:\n",
      "Topic #0:\n",
      "安打 本季 敲出 先發 全壘打 局下 局上 今天 洋基 擊出 投手 三振 打點 失分 保送 新聞 轟出 mlb 開轟 紅襪\n",
      "Topic #1:\n",
      "選手 運動 全國 台灣 參加 參賽 2017 活動 體育 國際 賽事 競賽 世界 學校 舉辦 田徑 比賽 全中 世大運 錦標賽\n",
      "Topic #2:\n",
      "籃板 季後賽 nba 勇士 助攻 暴龍 騎士 巫師 爵士 馬刺 火箭 領先 系列賽 公牛 快艇 老鷹 攻下 塞爾提克 灰熊 公鹿\n",
      "Topic #3:\n",
      "戴資穎 羽球 亞錦賽 球后 21 球衣 台灣 世界 新加坡 世界球 選手 小戴 超級 山口 開球 協會 中國 女單 金牌 服裝\n",
      "Topic #4:\n",
      "胡智 大聯盟 光芒隊 光芒 3a 初登板 投手 金鶯 台灣 上場 牛棚 登板 美國 打者 升上 25 出賽 後援 解決 金鶯隊\n",
      "Topic #5:\n",
      "並列 標準桿 柏忌 低於 打出 選手 回合 成績 領先 高爾夫 排名 小鳥 羅開 golf 博蒂 合計 抓下 吞下 女將 女子\n",
      "Topic #6:\n",
      "自己 球隊 表示 比賽 因為 新聞 不過 球員 目前 認為 二軍 沒有 今日 一軍 就是 我們 狀況 nownews2017 出賽 可能\n",
      "Topic #7:\n",
      "中央社 富邦 悍將 桃猿 106 中信 兄弟 職棒 開球 中華 棒球場 lamigo 記者 新莊 2017 擔任 16 統一 中職 賽事\n",
      "Topic #8:\n",
      "陳偉殷 馬林魚 安打 馬林魚隊 殷仔 先發 費城人 水手隊 水手 退場 大聯盟 投出 大都會 滿貫砲 台灣 保送 邁阿密 投手 左投 失分\n",
      "Topic #9:\n",
      "盧彥勳 冠軍 網球 挑戰賽 三太子 單打 網賽 23 直落 台灣 中央社 擊敗 莎拉波娃 排名 世界 決賽 拿下 男子 好手 日本\n",
      "\n",
      "Fitting LDA models with tf features, n_samples=2000 and n_features=1000...\n",
      "\n",
      "Topics in LDA model:\n",
      "Topic #0:\n",
      "新聞 表示 自己 球員 球迷 比賽 報導 球隊 職棒 球場 記者 因為 更多 今日 相關 nownews2017 棒球 目前 沒有 認為\n",
      "Topic #1:\n",
      "戴資穎 選手 台灣 羽球 2017 世界 並列 今天 成績 冠軍 排名 中央社 比賽 打出 世大運 標準桿 金牌 領先 亞錦賽 21\n",
      "Topic #2:\n",
      "比賽 新聞 今天 安打 洋基 球隊 表現 不過 敲出 拿下 報導 今日 對手 全壘打 連勝 更多 nownews2017 綜合 最終 自己\n",
      "Topic #3:\n",
      "運動 選手 2017 體育 活動 協會 全國 台灣 參加 表示 學校 體育署 106 舉辦 記者 競賽 賽事 國際 中央社 國中\n",
      "Topic #4:\n",
      "季後賽 nba 籃板 勇士 助攻 暴龍 新聞 騎士 領先 巫師 爵士 馬刺 比賽 系列賽 更多 火箭 我們 攻下 主場 公牛\n",
      "Topic #5:\n",
      "胡智 大聯盟 光芒 光芒隊 投手 台灣 初登板 3a 上場 美國 2017 出賽 新聞 牛棚 金鶯 打者 12 比賽 聯盟 25\n",
      "Topic #6:\n",
      "安打 陳偉殷 先發 本季 今天 投手 馬林魚 新聞 三振 擊出 全壘打 失分 大聯盟 保送 局下 更多 報導 局上 敲出 綜合\n",
      "Topic #7:\n",
      "兄弟 富邦 中信 悍將 桃猿 中華 安打 職棒 lamigo 統一 球賽 主播 中央社 全壘打 先發 記者 王柏融 領先 投手 2017\n",
      "Topic #8:\n",
      "選手 比賽 2017 台灣 世界 冠軍 今年 參賽 賽事 參加 自己 我們 教練 他們 因為 表示 隊伍 可以 國際 頭殼\n",
      "Topic #9:\n",
      "紅襪 外野手 小熊 沒想到 開心 民視 大賽 出現 世界 發生 方式 贏球 比賽 波士頓 主播 勝利 滾地球 球賽 指導 一壘\n",
      "\n"
     ]
    }
   ],
   "source": [
    "tfidf = tfidf_vectorizer.fit_transform(data_samples)\n",
    "\n",
    "# Use tf (raw term count) features for LDA.\n",
    "print(\"Extracting tf features for LDA...\")\n",
    "tf_vectorizer = CountVectorizer(max_df=0.95, min_df=2,\n",
    "                                max_features=n_features,\n",
    "                                stop_words=None)\n",
    "\n",
    "tf = tf_vectorizer.fit_transform(data_samples)\n",
    "\n",
    "\n",
    "# Fit the NMF model\n",
    "print(\"Fitting the NMF model with tf-idf features, \"\n",
    "      \"n_samples=%d and n_features=%d...\"\n",
    "      % (n_samples, n_features))\n",
    "nmf = NMF(n_components=n_topics, random_state=1,\n",
    "          alpha=.1, l1_ratio=.5).fit(tfidf)\n",
    "\n",
    "print(\"\\nTopics in NMF model:\")\n",
    "tfidf_feature_names = tfidf_vectorizer.get_feature_names()\n",
    "print_top_words(nmf, tfidf_feature_names, n_top_words)\n",
    "\n",
    "print(\"Fitting LDA models with tf features, \"\n",
    "      \"n_samples=%d and n_features=%d...\"\n",
    "      % (n_samples, n_features))\n",
    "lda = LatentDirichletAllocation(n_topics=n_topics, max_iter=5,\n",
    "                                learning_method='online',\n",
    "                                learning_offset=50.,\n",
    "                                random_state=0)\n",
    "\n",
    "lda.fit(tf)\n",
    "\n",
    "print(\"\\nTopics in LDA model:\")\n",
    "tf_feature_names = tf_vectorizer.get_feature_names()\n",
    "print_top_words(lda, tf_feature_names, n_top_words)"
   ]
  },
  {
   "cell_type": "code",
   "execution_count": null,
   "metadata": {
    "collapsed": false
   },
   "outputs": [],
   "source": []
  },
  {
   "cell_type": "code",
   "execution_count": null,
   "metadata": {
    "collapsed": false
   },
   "outputs": [],
   "source": []
  },
  {
   "cell_type": "code",
   "execution_count": null,
   "metadata": {
    "collapsed": true
   },
   "outputs": [],
   "source": []
  }
 ],
 "metadata": {
  "kernelspec": {
   "display_name": "Python 3",
   "language": "python",
   "name": "python3"
  },
  "language_info": {
   "codemirror_mode": {
    "name": "ipython",
    "version": 3
   },
   "file_extension": ".py",
   "mimetype": "text/x-python",
   "name": "python",
   "nbconvert_exporter": "python",
   "pygments_lexer": "ipython3",
   "version": "3.6.0"
  }
 },
 "nbformat": 4,
 "nbformat_minor": 2
}
